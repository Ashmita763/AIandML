{
  "cells": [
    {
      "cell_type": "markdown",
      "id": "839720d8",
      "metadata": {
        "id": "839720d8"
      },
      "source": [
        "# <font color='black'>4.1 Exercise on Functions</font>"
      ]
    },
    {
      "cell_type": "markdown",
      "id": "65d21685",
      "metadata": {},
      "source": [
        "# <font color='black'>4.1 Exercise on Functions</font>"
      ]
    },
    {
      "cell_type": "markdown",
      "id": "0174817d",
      "metadata": {},
      "source": [
        "# Task - 1:\n",
        "Create a Python program that converts between different units of measurement.\n",
        "• The program should:\n",
        "1. Prompt the user to choose the type of conversion (e.g., length, weight, volume).\n",
        "2. Ask the user to input the value to be converted.\n",
        "3. Perform the conversion and display the result.\n",
        "4. Handle potential errors, such as invalid input or unsupported conversion types.\n",
        "• Requirements:\n",
        "1. Functions: Define at least one function to perform the conversion.\n",
        "2. Error Handling: Use try-except blocks to handle invalid input (e.g., non-numeric values).\n",
        "3. User Input: Prompt the user to select the conversion type and input the value.\n",
        "4. Docstrings: Include a docstring in your function to describe its purpose, parameters, and\n",
        "return value.\n",
        "• Conversion Options:\n",
        "1. Length:\n",
        "– Convert meters (m) to feet (ft).\n",
        "– Convert feet (ft) to meters (m).\n",
        "2. Weight:\n",
        "– Convert kilograms (kg) to pounds (lbs).\n",
        "– Convert pounds (lbs) to kilograms (kg).\n",
        "3. Volume:\n",
        "– Convert liters (L) to gallons (gal).\n",
        "– Convert gallons (gal) to liters (L)."
      ]
    },
    {
      "cell_type": "code",
      "execution_count": null,
      "id": "568d921a",
      "metadata": {},
      "outputs": [
        {
          "name": "stdout",
          "output_type": "stream",
          "text": [
            "Unit Converter: Length, Weight, Volume\n",
            "1. Length (m <-> ft)\n",
            "2. Weight (kg <-> lbs)\n",
            "3. Volume (L <-> gal)\n",
            "Choose the type of conversion (1-3): 1\n",
            "Enter the value to convert: 10\n",
            "Enter the unit (e.g., m, ft, kg, lbs, L, gal): m\n",
            "Converted value: 32.81 ft\n"
          ]
        }
      ],
      "source": [
        "def convert_length(value, unit):\n",
        "    \"\"\"\n",
        "    Convert length between meters (m) and feet (ft).\n",
        "    :param value: The numerical value to convert.\n",
        "    :param unit: The unit of the input value ('m' for meters, 'ft' for feet).\n",
        "    :return: Converted value with appropriate unit.\n",
        "    \"\"\"\n",
        "    if unit == 'm':\n",
        "        return value * 3.28084, 'ft'\n",
        "    elif unit == 'ft':\n",
        "        return value / 3.28084, 'm'\n",
        "    else:\n",
        "        raise ValueError(\"Invalid unit for length conversion\")\n",
        "\n",
        "def convert_weight(value, unit):\n",
        "    \"\"\"\n",
        "    Convert weight between kilograms (kg) and pounds (lbs).\n",
        "    :param value: The numerical value to convert.\n",
        "    :param unit: The unit of the input value ('kg' for kilograms, 'lbs' for pounds).\n",
        "    :return: Converted value with appropriate unit.\n",
        "    \"\"\"\n",
        "    if unit == 'kg':\n",
        "        return value * 2.20462, 'lbs'\n",
        "    elif unit == 'lbs':\n",
        "        return value / 2.20462, 'kg'\n",
        "    else:\n",
        "        raise ValueError(\"Invalid unit for weight conversion\")\n",
        "\n",
        "def convert_volume(value, unit):\n",
        "    \"\"\"\n",
        "    Convert volume between liters (L) and gallons (gal).\n",
        "    :param value: The numerical value to convert.\n",
        "    :param unit: The unit of the input value ('L' for liters, 'gal' for gallons).\n",
        "    :return: Converted value with appropriate unit.\n",
        "    \"\"\"\n",
        "    if unit == 'L':\n",
        "        return value * 0.264172, 'gal'\n",
        "    elif unit == 'gal':\n",
        "        return value / 0.264172, 'L'\n",
        "    else:\n",
        "        raise ValueError(\"Invalid unit for volume conversion\")\n",
        "\n",
        "def main():\n",
        "    print(\"Unit Converter: Length, Weight, Volume\")\n",
        "    print(\"1. Length (m <-> ft)\")\n",
        "    print(\"2. Weight (kg <-> lbs)\")\n",
        "    print(\"3. Volume (L <-> gal)\")\n",
        "\n",
        "    try:\n",
        "        choice = int(input(\"Choose the type of conversion (1-3): \"))\n",
        "        value = float(input(\"Enter the value to convert: \"))\n",
        "        unit = input(\"Enter the unit (e.g., m, ft, kg, lbs, L, gal): \").strip().lower()\n",
        "\n",
        "        if choice == 1:\n",
        "            result, new_unit = convert_length(value, unit)\n",
        "        elif choice == 2:\n",
        "            result, new_unit = convert_weight(value, unit)\n",
        "        elif choice == 3:\n",
        "            result, new_unit = convert_volume(value, unit)\n",
        "        else:\n",
        "            print(\"Invalid choice. Please select 1, 2, or 3.\")\n",
        "            return\n",
        "\n",
        "        print(f\"Converted value: {result:.2f} {new_unit}\")\n",
        "    except ValueError as e:\n",
        "        print(f\"Error: {e}. Please enter valid input.\")\n",
        "    except Exception as e:\n",
        "        print(f\"Unexpected error: {e}\")\n",
        "\n",
        "# Run the main function\n",
        "main()\n"
      ]
    },
    {
      "cell_type": "markdown",
      "id": "42c22f7e",
      "metadata": {},
      "source": [
        "# Task - 2:\n",
        "\n",
        "Create a Python program that performs various mathematical operations on a list of numbers\n",
        "\n",
        "• The Program should:\n",
        "1. Prompt the user to choose an operation (e.g., find the sum, average, maximum, or minimumof the numbers).\n",
        "2. Ask the user to input a list of numbers (separated by spaces).\n",
        "3. Perform the selected operation and display the result.\n",
        "4. Handle potential errors, such as invalid input or empty lists.\n",
        "\n",
        "• Requirements:\n",
        "1. Functions: Define at least one function for each operation (sum, average, maximum, mini-mum).\n",
        "2. Error Handling: Use try-except blocks to handle invalid input (e.g., non-numeric values orempty lists).\n",
        "3. User Input: Prompt the user to select the operation and input the list of numbers.\n",
        "4. Docstrings: Include a docstring in each function to describe its purpose, parameters, andreturn value."
      ]
    },
    {
      "cell_type": "code",
      "execution_count": null,
      "id": "d9f8a58a",
      "metadata": {},
      "outputs": [
        {
          "name": "stdout",
          "output_type": "stream",
          "text": [
            "Mathematical Operations on a List of Numbers\n",
            "1. Sum\n",
            "2. Average\n",
            "3. Maximum\n",
            "4. Minimum\n",
            "Choose an operation (1-4): 1\n",
            "Enter a list of numbers separated by spaces: 1 2 3 4 5\n",
            "Result: 15.0\n"
          ]
        }
      ],
      "source": [
        "def calculate_sum(numbers):\n",
        "    \"\"\"\n",
        "    Calculate the sum of a list of numbers.\n",
        "    :param numbers: List of numerical values.\n",
        "    :return: Sum of the numbers.\n",
        "    \"\"\"\n",
        "    return sum(numbers)\n",
        "\n",
        "def calculate_average(numbers):\n",
        "    \"\"\"\n",
        "    Calculate the average of a list of numbers.\n",
        "    :param numbers: List of numerical values.\n",
        "    :return: Average of the numbers.\n",
        "    \"\"\"\n",
        "    return sum(numbers) / len(numbers) if numbers else 0\n",
        "\n",
        "def find_maximum(numbers):\n",
        "    \"\"\"\n",
        "    Find the maximum value in a list of numbers.\n",
        "    :param numbers: List of numerical values.\n",
        "    :return: Maximum value.\n",
        "    \"\"\"\n",
        "    return max(numbers)\n",
        "\n",
        "def find_minimum(numbers):\n",
        "    \"\"\"\n",
        "    Find the minimum value in a list of numbers.\n",
        "    :param numbers: List of numerical values.\n",
        "    :return: Minimum value.\n",
        "    \"\"\"\n",
        "    return min(numbers)\n",
        "\n",
        "def main():\n",
        "    print(\"Mathematical Operations on a List of Numbers\")\n",
        "    print(\"1. Sum\")\n",
        "    print(\"2. Average\")\n",
        "    print(\"3. Maximum\")\n",
        "    print(\"4. Minimum\")\n",
        "\n",
        "    try:\n",
        "        choice = int(input(\"Choose an operation (1-4): \"))\n",
        "        numbers = input(\"Enter a list of numbers separated by spaces: \")\n",
        "        numbers = [float(num) for num in numbers.split()]\n",
        "\n",
        "        if not numbers:\n",
        "            raise ValueError(\"The list cannot be empty.\")\n",
        "\n",
        "        if choice == 1:\n",
        "            result = calculate_sum(numbers)\n",
        "        elif choice == 2:\n",
        "            result = calculate_average(numbers)\n",
        "        elif choice == 3:\n",
        "            result = find_maximum(numbers)\n",
        "        elif choice == 4:\n",
        "            result = find_minimum(numbers)\n",
        "        else:\n",
        "            print(\"Invalid choice. Please select 1, 2, 3, or 4.\")\n",
        "            return\n",
        "\n",
        "        print(f\"Result: {result}\")\n",
        "    except ValueError as e:\n",
        "        print(f\"Error: {e}. Please enter valid input.\")\n",
        "    except Exception as e:\n",
        "        print(f\"Unexpected error: {e}\")\n",
        "\n",
        "if __name__ == \"__main__\":\n",
        "    main()\n"
      ]
    },
    {
      "cell_type": "markdown",
      "id": "9bc077ce",
      "metadata": {},
      "source": [
        "# 4.2 Exercise on List Manipulation:\n"
      ]
    },
    {
      "cell_type": "markdown",
      "id": "705210dc",
      "metadata": {},
      "source": [
        "# 1. Extract Every Other Element:\n",
        "Write a Python function that extracts every other element from a list, starting from the first element.\n",
        "\n",
        "• Requirements:\n",
        "\n",
        "– Define a function extract every other(lst) that takes a list lst as input and returns a\n",
        "new list containing every other element from the original list.\n",
        "\n",
        "– Example: For the input [1, 2, 3, 4, 5, 6], the output should be [1, 3, 5]."
      ]
    },
    {
      "cell_type": "code",
      "execution_count": null,
      "id": "1d6f3b31",
      "metadata": {},
      "outputs": [
        {
          "name": "stdout",
          "output_type": "stream",
          "text": [
            "[1, 3, 5]\n"
          ]
        }
      ],
      "source": [
        "def extract_every_other(lst):\n",
        "    return lst[::2]\n",
        "\n",
        "input_list = [1, 2, 3, 4, 5, 6]\n",
        "output_list = extract_every_other(input_list)\n",
        "print(output_list)"
      ]
    },
    {
      "cell_type": "markdown",
      "id": "454fd71d",
      "metadata": {},
      "source": [
        "# 2. Slice a Sublist:\n",
        "Write a Python function that returns a sublist from a given list, starting from a specified index and\n",
        "ending at another specified index.\n",
        "\n",
        "• Requirements:\n",
        "\n",
        "– Define a function get sublist(lst, start, end) that takes a list lst, a starting index\n",
        "start, and an ending index end as input and returns the sublist from start to end (inclusive).\n",
        "\n",
        "– Example: For the input [1, 2, 3, 4, 5, 6] with start=2 and end=4, the output should\n",
        "be [3, 4, 5]."
      ]
    },
    {
      "cell_type": "code",
      "execution_count": null,
      "id": "52ea8136",
      "metadata": {},
      "outputs": [
        {
          "name": "stdout",
          "output_type": "stream",
          "text": [
            "[3, 4, 5]\n"
          ]
        }
      ],
      "source": [
        "def get_sublist(lst, start, end):\n",
        "    return lst[start:end+1]\n",
        "\n",
        "\n",
        "input_list = [1, 2, 3, 4, 5, 6]\n",
        "start_index = 2\n",
        "end_index = 4\n",
        "output_list = get_sublist(input_list, start_index, end_index)\n",
        "print(output_list)"
      ]
    },
    {
      "cell_type": "markdown",
      "id": "119c75e5",
      "metadata": {},
      "source": [
        "# 3. Reverse a List Using Slicing:\n",
        "Write a Python function that reverses a list using slicing.\n",
        "\n",
        "• Requirements:\n",
        "\n",
        "– Define a function reverse list(lst) that takes a list lst and returns a reversed list using\n",
        "slicing.\n",
        "\n",
        "– Example: For the input [1, 2, 3, 4, 5], the output should be [5, 4, 3, 2, 1]."
      ]
    },
    {
      "cell_type": "code",
      "execution_count": null,
      "id": "c25db71c",
      "metadata": {},
      "outputs": [
        {
          "name": "stdout",
          "output_type": "stream",
          "text": [
            "[5, 4, 3, 2, 1]\n"
          ]
        }
      ],
      "source": [
        "def reverse_list(lst):\n",
        "    return lst[::-1]\n",
        "\n",
        "input_list = [1, 2, 3, 4, 5]\n",
        "output_list = reverse_list(input_list)\n",
        "print(output_list)"
      ]
    },
    {
      "cell_type": "markdown",
      "id": "acb02189",
      "metadata": {},
      "source": [
        "# 4. Remove the First and Last Elements:\n",
        "Write a Python function that removes the first and last elements of a list and returns the resulting\n",
        "sublist.\n",
        "\n",
        "• Requirements:\n",
        "\n",
        "– Define a function remove first last(lst) that takes a list lst and returns a sublist without\n",
        "the first and last elements using slicing.\n",
        "\n",
        "– Example: For the input [1, 2, 3, 4, 5], the output should be [2, 3, 4]."
      ]
    },
    {
      "cell_type": "code",
      "execution_count": null,
      "id": "4dab34c5",
      "metadata": {},
      "outputs": [
        {
          "name": "stdout",
          "output_type": "stream",
          "text": [
            "[2, 3, 4]\n"
          ]
        }
      ],
      "source": [
        "def remove_first_last(lst):\n",
        "    return lst[1:-1]\n",
        "\n",
        "\n",
        "input_list = [1, 2, 3, 4, 5]\n",
        "output_list = remove_first_last(input_list)\n",
        "print(output_list)"
      ]
    },
    {
      "cell_type": "markdown",
      "id": "c7d99ba1",
      "metadata": {},
      "source": [
        "# 5. Get the First n Elements:\n",
        "Write a Python function that extracts the first n elements from a list.\n",
        "\n",
        "• Requirements:\n",
        "\n",
        "– Define a function get first n(lst, n) that takes a list lst and an integer n as input and\n",
        "returns the first n elements of the list using slicing.\n",
        "\n",
        "– Example: For the input [1, 2, 3, 4, 5] with n=3, the output should be [1, 2, 3]."
      ]
    },
    {
      "cell_type": "code",
      "execution_count": null,
      "id": "53d13e15",
      "metadata": {},
      "outputs": [
        {
          "name": "stdout",
          "output_type": "stream",
          "text": [
            "[1, 2, 3]\n"
          ]
        }
      ],
      "source": [
        "def get_first_n(lst, n):\n",
        "    return lst[:n]\n",
        "\n",
        "input_list = [1, 2, 3, 4, 5]\n",
        "n = 3\n",
        "output_list = get_first_n(input_list, n)\n",
        "print(output_list)"
      ]
    },
    {
      "cell_type": "markdown",
      "id": "3cf37022",
      "metadata": {},
      "source": [
        "# 6. Extract Elements from the End:\n",
        "Write a Python function that extracts the last n elements of a list using slicing.\n",
        "\n",
        "• Requirements:\n",
        "\n",
        "– Define a function get last n(lst, n) that takes a list lst and an integer n as input and\n",
        "returns the last n elements of the list.\n",
        "\n",
        "– Example: For the input [1, 2, 3, 4, 5] with n=2, the output should be [4, 5]."
      ]
    },
    {
      "cell_type": "code",
      "execution_count": null,
      "id": "73b29a94",
      "metadata": {},
      "outputs": [
        {
          "name": "stdout",
          "output_type": "stream",
          "text": [
            "[3, 4, 5]\n"
          ]
        }
      ],
      "source": [
        "def get_last_n(lst, n):\n",
        "    return lst[-n:]\n",
        "\n",
        "input_list = [1, 2, 3, 4, 5]\n",
        "n = 3\n",
        "output_list = get_last_n(input_list, n)\n",
        "print(output_list)"
      ]
    },
    {
      "cell_type": "markdown",
      "id": "546ff88f",
      "metadata": {},
      "source": [
        "# 7. Extract Elements in Reverse Order:\n",
        "Write a Python function that extracts a list of elements in reverse order starting from the second-to-last\n",
        "element and skipping one element in between.\n",
        "\n",
        "• Requirements:\n",
        "\n",
        "– Define a function reverse skip(lst) that takes a list lst and returns a new list containing\n",
        "every second element starting from the second-to-last, moving backward.\n",
        "\n",
        "– Example: For the input [1, 2, 3, 4, 5, 6], the output should be [5, 3, 1]."
      ]
    },
    {
      "cell_type": "code",
      "execution_count": null,
      "id": "375a4cb5",
      "metadata": {},
      "outputs": [
        {
          "name": "stdout",
          "output_type": "stream",
          "text": [
            "[5, 3, 1]\n"
          ]
        }
      ],
      "source": [
        "def reverse_skip(lst):\n",
        "\n",
        "    return lst[-2::-2]\n",
        "\n",
        "\n",
        "input_list = [1, 2, 3, 4, 5, 6]\n",
        "output_list = reverse_skip(input_list)\n",
        "print(output_list)"
      ]
    },
    {
      "cell_type": "markdown",
      "id": "075496f1",
      "metadata": {},
      "source": [
        "# 4.3 Exercise on Nested List:"
      ]
    },
    {
      "cell_type": "markdown",
      "id": "f7a883d5",
      "metadata": {},
      "source": [
        "# 1. Flatten a Nested List:\n",
        "Write a Python function that takes a nested list and flattens it into a single list, where all the elements\n",
        "are in a single dimension.\n",
        "\n",
        "• Requirements:\n",
        "\n",
        "– Define a function flatten(lst) that takes a nested list lst and returns a flattened version\n",
        "of the list.\n",
        "\n",
        "– Example: For the input [[1, 2], [3, 4], [5]], the output should be [1, 2, 3, 4, 5]."
      ]
    },
    {
      "cell_type": "code",
      "execution_count": null,
      "id": "196b13c8",
      "metadata": {},
      "outputs": [
        {
          "name": "stdout",
          "output_type": "stream",
          "text": [
            "[5, 3, 1]\n"
          ]
        }
      ],
      "source": [
        "def reverse_skip(lst):\n",
        "    return lst[-2::-2]\n",
        "\n",
        "input_list = [1, 2, 3, 4, 5, 6]\n",
        "output_list = reverse_skip(input_list)\n",
        "print(output_list)"
      ]
    },
    {
      "cell_type": "markdown",
      "id": "d51ef959",
      "metadata": {},
      "source": [
        "# 2. Accessing Nested List Elements:\n",
        "Write a Python function that extracts a specific element from a nested list given its indices.\n",
        "\n",
        "• Requirements:\n",
        "\n",
        "– Define a function access nested element(lst, indices) that takes a nested list lst and\n",
        "a list of indices indices, and returns the element at that position.\n",
        "\n",
        "– Example: For the input lst = [[1, 2, 3], [4, 5, 6], [7, 8, 9]] with indices = [1,\n",
        "2], the output should be 6."
      ]
    },
    {
      "cell_type": "code",
      "execution_count": null,
      "id": "593acc36",
      "metadata": {},
      "outputs": [
        {
          "name": "stdout",
          "output_type": "stream",
          "text": [
            "6\n"
          ]
        }
      ],
      "source": [
        "def access_nested_element(lst, indices):\n",
        "    current = lst\n",
        "    for index in indices:\n",
        "        current = current[index]\n",
        "    return current\n",
        "\n",
        "lst = [[1, 2, 3], [4, 5, 6], [7, 8, 9]]\n",
        "indices = [1, 2]\n",
        "output = access_nested_element(lst, indices)\n",
        "print(output)"
      ]
    },
    {
      "cell_type": "markdown",
      "id": "58c41828",
      "metadata": {},
      "source": [
        "# 3. Sum of All Elements in a Nested List:\n",
        "Write a Python function that calculates the sum of all the numbers in a nested list (regardless of depth).\n",
        "\n",
        "• Requirements:\n",
        "\n",
        "– Define a function sum nested(lst) that takes a nested list lst and returns the sum of all\n",
        "the elements.\n",
        "\n",
        "– Example: For the input [[1, 2], [3, [4, 5]], 6], the output should be 21."
      ]
    },
    {
      "cell_type": "code",
      "execution_count": null,
      "id": "e32bc225",
      "metadata": {},
      "outputs": [
        {
          "name": "stdout",
          "output_type": "stream",
          "text": [
            "21\n"
          ]
        }
      ],
      "source": [
        "def sum_nested(lst):\n",
        "    total = 0\n",
        "    for element in lst:\n",
        "\n",
        "        if isinstance(element, list):\n",
        "            total += sum_nested(element)\n",
        "        else:\n",
        "\n",
        "            total += element\n",
        "    return total\n",
        "\n",
        "input_list = [[1, 2], [3, [4, 5]], 6]\n",
        "output = sum_nested(input_list)\n",
        "print(output)"
      ]
    },
    {
      "cell_type": "markdown",
      "id": "28722a54",
      "metadata": {},
      "source": [
        "# 4. Remove Specific Element from a Nested List:\n",
        "Write a Python function that removes all occurrences of a specific element from a nested list.\n",
        "\n",
        "• Requirements:\n",
        "\n",
        "– Define a function remove element(lst, elem) that removes elem from lst and returns the\n",
        "modified list.\n",
        "\n",
        "– Example: For the input lst = [[1, 2], [3, 2], [4, 5]] and elem = 2, the output should\n",
        "be [[1], [3], [4, 5]]."
      ]
    },
    {
      "cell_type": "code",
      "execution_count": null,
      "id": "4c362ce3",
      "metadata": {},
      "outputs": [
        {
          "name": "stdout",
          "output_type": "stream",
          "text": [
            "[[1], [3], [4, 5]]\n"
          ]
        }
      ],
      "source": [
        "def remove_element(lst, elem):\n",
        "    result = []\n",
        "    for item in lst:\n",
        "\n",
        "        if isinstance(item, list):\n",
        "            result.append(remove_element(item, elem))\n",
        "        else:\n",
        "\n",
        "            if item != elem:\n",
        "                result.append(item)\n",
        "    return result\n",
        "\n",
        "input_list = [[1, 2], [3, 2], [4, 5]]\n",
        "elem = 2\n",
        "output_list = remove_element(input_list, elem)\n",
        "print(output_list)"
      ]
    },
    {
      "cell_type": "markdown",
      "id": "7739d6a5",
      "metadata": {},
      "source": [
        "# 5. Find the Maximum Element in a Nested List:\n",
        "Write a Python function that finds the maximum element in a nested list (regardless of depth).\n",
        "\n",
        "• Requirements:\n",
        "\n",
        "– Define a function find max(lst) that takes a nested list lst and returns the maximum\n",
        "element.\n",
        "\n",
        "– Example: For the input [[1, 2], [3, [4, 5]], 6], the output should be 6."
      ]
    },
    {
      "cell_type": "code",
      "execution_count": null,
      "id": "45af87e6",
      "metadata": {},
      "outputs": [
        {
          "name": "stdout",
          "output_type": "stream",
          "text": [
            "6\n"
          ]
        }
      ],
      "source": [
        "def find_max(lst):\n",
        "    max_val = None\n",
        "    for item in lst:\n",
        "\n",
        "        if isinstance(item, list):\n",
        "            nested_max = find_max(item)\n",
        "\n",
        "            if max_val is None or nested_max > max_val:\n",
        "                max_val = nested_max\n",
        "        else:\n",
        "\n",
        "            if max_val is None or item > max_val:\n",
        "                max_val = item\n",
        "    return max_val\n",
        "\n",
        "input_list = [[1, 2], [3, [4, 5]], 6]\n",
        "output = find_max(input_list)\n",
        "print(output)"
      ]
    },
    {
      "cell_type": "markdown",
      "id": "344aef68",
      "metadata": {},
      "source": [
        "# 6. Count Occurrences of an Element in a Nested List:\n",
        "Write a Python function that counts how many times a specific element appears in a nested list.\n",
        "\n",
        "• Requirements:\n",
        "\n",
        "– Define a function count occurrences(lst, elem) that counts the occurrences of elem in\n",
        "the nested list lst.\n",
        "\n",
        "– Example: For the input lst = [[1, 2], [2, 3], [2, 4]] and elem = 2, the output should\n",
        "be 3."
      ]
    },
    {
      "cell_type": "code",
      "execution_count": null,
      "id": "bf476dc5",
      "metadata": {},
      "outputs": [
        {
          "name": "stdout",
          "output_type": "stream",
          "text": [
            "4\n"
          ]
        }
      ],
      "source": [
        "def count_occurrences(lst, elem):\n",
        "    count = 0\n",
        "    for item in lst:\n",
        "\n",
        "        if isinstance(item, list):\n",
        "            count += count_occurrences(item, elem)\n",
        "        else:\n",
        "\n",
        "            if item == elem:\n",
        "                count += 1\n",
        "    return count\n",
        "\n",
        "input_list = [[1, 2], [2, 3], [2, 4], [2,6]]\n",
        "elem = 2\n",
        "output = count_occurrences(input_list, elem)\n",
        "print(output)"
      ]
    },
    {
      "cell_type": "markdown",
      "id": "072b584a",
      "metadata": {},
      "source": [
        "# 7. Flatten a List of Lists of Lists:\n",
        "Write a Python function that flattens a list of lists of lists into a single list, regardless of the depth.\n",
        "\n",
        "• Requirements:\n",
        "\n",
        "– Define a function deep flatten(lst) that takes a deeply nested list lst and returns a single\n",
        "flattened list.\n",
        "\n",
        "– Example: For the input [[[1, 2], [3, 4]], [[5, 6], [7, 8]]], the output should be\n",
        "[1, 2, 3, 4, 5, 6, 7, 8]."
      ]
    },
    {
      "cell_type": "code",
      "execution_count": null,
      "id": "be068747",
      "metadata": {},
      "outputs": [
        {
          "name": "stdout",
          "output_type": "stream",
          "text": [
            "[1, 2, 3, 4, 5, 6, 7, 8]\n"
          ]
        }
      ],
      "source": [
        "def deep_flatten(lst):\n",
        "    flattened = []\n",
        "    for item in lst:\n",
        "\n",
        "        if isinstance(item, list):\n",
        "            flattened.extend(deep_flatten(item))\n",
        "        else:\n",
        "\n",
        "            flattened.append(item)\n",
        "    return flattened\n",
        "\n",
        "input_list = [[[1, 2], [3, 4]], [[5, 6], [7, 8]]]\n",
        "output_list = deep_flatten(input_list)\n",
        "print(output_list)"
      ]
    },
    {
      "cell_type": "markdown",
      "id": "ff3310c8",
      "metadata": {},
      "source": [
        "# 8. Nested List Average:\n",
        "Write a Python function that calculates the average of all elements in a nested list.\n",
        "\n",
        "• Requirements:\n",
        "\n",
        "– Define a function average nested(lst) that takes a nested list lst and returns the average\n",
        "of all the elements.\n",
        "\n",
        "– Example: For the input [[1, 2], [3, 4], [5, 6]], the output should be 3.5."
      ]
    },
    {
      "cell_type": "code",
      "execution_count": null,
      "id": "62955efc",
      "metadata": {},
      "outputs": [
        {
          "name": "stdout",
          "output_type": "stream",
          "text": [
            "3.5\n"
          ]
        }
      ],
      "source": [
        "def average_nested(lst):\n",
        "    total_sum = 0\n",
        "    total_count = 0\n",
        "\n",
        "    def recursive_helper(lst):\n",
        "        nonlocal total_sum, total_count\n",
        "        for item in lst:\n",
        "\n",
        "            if isinstance(item, list):\n",
        "                recursive_helper(item)\n",
        "            else:\n",
        "\n",
        "                total_sum += item\n",
        "                total_count += 1\n",
        "\n",
        "    recursive_helper(lst)\n",
        "\n",
        "\n",
        "    return total_sum / total_count if total_count > 0 else 0\n",
        "\n",
        "input_list = [[1, 2], [3, 4], [5, 6]]\n",
        "output = average_nested(input_list)\n",
        "print(output)"
      ]
    },
    {
      "cell_type": "markdown",
      "id": "48a97bc0",
      "metadata": {},
      "source": [
        "# 10 To - Do - NumPy"
      ]
    },
    {
      "cell_type": "markdown",
      "id": "fa8199e0",
      "metadata": {},
      "source": [
        "# 10.1 Basic Vector and Matrix Operation with Numpy"
      ]
    },
    {
      "cell_type": "markdown",
      "id": "885b258f",
      "metadata": {},
      "source": [
        "\n",
        "# Problem - 1: Array Creation:\n",
        "\n",
        "Complete the following Tasks:\n",
        "1. Initialize an empty array with size 2X2.\n",
        "2. Initialize an all one array with size 4X2.\n",
        "3. Return a new array of given shape and type, filled with fill value.{Hint: np.full}\n",
        "4. Return a new array of zeros with same shape and type as a given array.{Hint: np.zeros like}\n",
        "5. Return a new array of ones with same shape and type as a given array.{Hint: np.ones like}\n",
        "6. For an existing list new_list = [1,2,3,4] convert to an numpy array.{Hint: np.array()}\n"
      ]
    },
    {
      "cell_type": "code",
      "execution_count": null,
      "id": "dd82a71e",
      "metadata": {},
      "outputs": [
        {
          "name": "stdout",
          "output_type": "stream",
          "text": [
            "1. Empty 2x2 array:\n",
            " [[4.9e-324 9.9e-324]\n",
            " [1.5e-323 2.0e-323]]\n",
            "\n",
            "2. All ones 4x2 array:\n",
            " [[1. 1.]\n",
            " [1. 1.]\n",
            " [1. 1.]\n",
            " [1. 1.]]\n",
            "\n",
            "3. Array filled with value 5:\n",
            " [[5 5 5]\n",
            " [5 5 5]\n",
            " [5 5 5]]\n",
            "\n",
            "4. Zeros array with same shape as given array:\n",
            " [[0 0]\n",
            " [0 0]]\n",
            "\n",
            "5. Ones array with same shape as given array:\n",
            " [[1 1]\n",
            " [1 1]]\n",
            "\n",
            "6. Numpy array from list:\n",
            " [1 2 3 4]\n"
          ]
        }
      ],
      "source": [
        "import numpy as np\n",
        "\n",
        "# Task 1:\n",
        "empty_array = np.empty((2, 2))\n",
        "print(\"1. Empty 2x2 array:\\n\", empty_array)\n",
        "\n",
        "# Task 2:\n",
        "ones_array = np.ones((4, 2))\n",
        "print(\"\\n2. All ones 4x2 array:\\n\", ones_array)\n",
        "\n",
        "# Task 3:\n",
        "fill_value_array = np.full((3, 3), 5)\n",
        "print(\"\\n3. Array filled with value 5:\\n\", fill_value_array)\n",
        "\n",
        "# Task 4:\n",
        "given_array = np.array([[1, 2], [3, 4]])\n",
        "zeros_like_array = np.zeros_like(given_array)\n",
        "print(\"\\n4. Zeros array with same shape as given array:\\n\", zeros_like_array)\n",
        "\n",
        "# Task 5:\n",
        "ones_like_array = np.ones_like(given_array)\n",
        "print(\"\\n5. Ones array with same shape as given array:\\n\", ones_like_array)\n",
        "\n",
        "# Task 6:\n",
        "new_list = [1, 2, 3, 4]\n",
        "numpy_array = np.array(new_list)\n",
        "print(\"\\n6. Numpy array from list:\\n\", numpy_array)"
      ]
    },
    {
      "cell_type": "markdown",
      "id": "05ad0b46",
      "metadata": {},
      "source": [
        "# Problem - 2: Array Manipulation: Numerical Ranges and Array indexing:\n",
        "# Complete the following tasks:\n",
        "\n",
        "1. Create an array with values ranging from 10 to 49. {Hint:np.arrange()}.\n",
        "2. Create a 3X3 matrix with values ranging from 0 to 8.\n",
        "{Hint:look for np.reshape()}\n",
        "3. Create a 3X3 identity matrix.{Hint:np.eye()}\n",
        "4. Create a random array of size 30 and find the mean of the array.\n",
        "{Hint:check for np.random.random() and array.mean() function}\n",
        "5. Create a 10X10 array with random values and find the minimum and maximum values.\n",
        "6. Create a zero array of size 10 and replace 5th element with 1.\n",
        "7. Reverse an array arr = [1,2,0,0,4,0].\n",
        "8. Create a 2d array with 1 on border and 0 inside.\n",
        "9. Create a 8X8 matrix and fill it with a checkerboard pattern."
      ]
    },
    {
      "cell_type": "code",
      "execution_count": null,
      "id": "1b3bd933",
      "metadata": {},
      "outputs": [
        {
          "name": "stdout",
          "output_type": "stream",
          "text": [
            "1. Array with values from 10 to 49:\n",
            " [10 11 12 13 14 15 16 17 18 19 20 21 22 23 24 25 26 27 28 29 30 31 32 33\n",
            " 34 35 36 37 38 39 40 41 42 43 44 45 46 47 48 49]\n",
            "\n",
            "2. 3x3 matrix with values from 0 to 8:\n",
            " [[0 1 2]\n",
            " [3 4 5]\n",
            " [6 7 8]]\n",
            "\n",
            "3. 3x3 identity matrix:\n",
            " [[1. 0. 0.]\n",
            " [0. 1. 0.]\n",
            " [0. 0. 1.]]\n",
            "\n",
            "4. Random array of size 30:\n",
            " [0.42584436 0.7223849  0.66568674 0.86667318 0.63505721 0.8963853\n",
            " 0.27484701 0.21519812 0.0639802  0.87863327 0.61169421 0.44285377\n",
            " 0.71779477 0.63541844 0.81410925 0.12988994 0.60782054 0.26709434\n",
            " 0.9748774  0.43633364 0.33576111 0.16298894 0.77520442 0.06408262\n",
            " 0.49763849 0.29867259 0.75581466 0.71310668 0.91171592 0.93739195]\n",
            "Mean of the array: 0.5578317996708596\n",
            "\n",
            "5. 10x10 random array:\n",
            " [[0.17333424 0.39582043 0.34792363 0.11719648 0.61839269 0.67640243\n",
            "  0.4904744  0.24455865 0.19059002 0.88438599]\n",
            " [0.81442617 0.78291723 0.81708784 0.32318687 0.56079018 0.66829619\n",
            "  0.07932334 0.4950771  0.0471673  0.00334302]\n",
            " [0.11236668 0.90521636 0.5889092  0.23311561 0.7806104  0.08615098\n",
            "  0.19038632 0.15097927 0.17449773 0.31485138]\n",
            " [0.46498172 0.65959259 0.05606344 0.37589132 0.7677146  0.07166039\n",
            "  0.94438439 0.22454667 0.43941663 0.35527506]\n",
            " [0.10344176 0.13835775 0.3941535  0.33315212 0.57254865 0.59236336\n",
            "  0.10207185 0.41600509 0.14430641 0.92531037]\n",
            " [0.86166168 0.44036168 0.78143083 0.56966458 0.66919446 0.34515562\n",
            "  0.23696587 0.78673972 0.39846179 0.92856773]\n",
            " [0.41273122 0.97773221 0.83630072 0.92469479 0.58146869 0.13769358\n",
            "  0.61329461 0.90188169 0.31605671 0.9448282 ]\n",
            " [0.50769285 0.20303949 0.4137193  0.37357667 0.50464827 0.4460423\n",
            "  0.19315706 0.91945822 0.46914828 0.90373634]\n",
            " [0.28235162 0.43146516 0.95488755 0.00534464 0.6313276  0.35699809\n",
            "  0.07603973 0.61397949 0.55144376 0.10227029]\n",
            " [0.97700417 0.6452904  0.77014467 0.24926026 0.30001434 0.7851868\n",
            "  0.72111371 0.81605878 0.81879634 0.46453785]]\n",
            "Minimum value: 0.0033430182818686704\n",
            "Maximum value: 0.9777322120118778\n",
            "\n",
            "6. Zero array with 5th element replaced by 1:\n",
            " [0. 0. 0. 0. 1. 0. 0. 0. 0. 0.]\n",
            "\n",
            "7. Reversed array:\n",
            " [0 4 0 0 2 1]\n",
            "\n",
            "8. 2D array with 1 on border and 0 inside:\n",
            " [[1. 1. 1. 1. 1.]\n",
            " [1. 0. 0. 0. 1.]\n",
            " [1. 0. 0. 0. 1.]\n",
            " [1. 0. 0. 0. 1.]\n",
            " [1. 1. 1. 1. 1.]]\n",
            "\n",
            "9. 8x8 checkerboard pattern:\n",
            " [[0 1 0 1 0 1 0 1]\n",
            " [1 0 1 0 1 0 1 0]\n",
            " [0 1 0 1 0 1 0 1]\n",
            " [1 0 1 0 1 0 1 0]\n",
            " [0 1 0 1 0 1 0 1]\n",
            " [1 0 1 0 1 0 1 0]\n",
            " [0 1 0 1 0 1 0 1]\n",
            " [1 0 1 0 1 0 1 0]]\n"
          ]
        }
      ],
      "source": [
        "import numpy as np\n",
        "\n",
        "# Task 1:\n",
        "array_range = np.arange(10, 50)\n",
        "print(\"1. Array with values from 10 to 49:\\n\", array_range)\n",
        "\n",
        "# Task 2:\n",
        "matrix_3x3 = np.arange(0, 9).reshape(3, 3)\n",
        "print(\"\\n2. 3x3 matrix with values from 0 to 8:\\n\", matrix_3x3)\n",
        "\n",
        "# Task 3:\n",
        "identity_matrix = np.eye(3)\n",
        "print(\"\\n3. 3x3 identity matrix:\\n\", identity_matrix)\n",
        "\n",
        "# Task 4:\n",
        "random_array = np.random.random(30)\n",
        "mean_value = random_array.mean()\n",
        "print(\"\\n4. Random array of size 30:\\n\", random_array)\n",
        "print(\"Mean of the array:\", mean_value)\n",
        "\n",
        "# Task 5:\n",
        "random_10x10 = np.random.random((10, 10))\n",
        "min_value = random_10x10.min()\n",
        "max_value = random_10x10.max()\n",
        "print(\"\\n5. 10x10 random array:\\n\", random_10x10)\n",
        "print(\"Minimum value:\", min_value)\n",
        "print(\"Maximum value:\", max_value)\n",
        "\n",
        "# Task 6:\n",
        "zero_array = np.zeros(10)\n",
        "zero_array[4] = 1\n",
        "print(\"\\n6. Zero array with 5th element replaced by 1:\\n\", zero_array)\n",
        "\n",
        "# Task 7:\n",
        "arr = np.array([1, 2, 0, 0, 4, 0])\n",
        "reversed_arr = arr[::-1]\n",
        "print(\"\\n7. Reversed array:\\n\", reversed_arr)\n",
        "\n",
        "# Task 8:\n",
        "border_array = np.ones((5, 5))\n",
        "border_array[1:-1, 1:-1] = 0\n",
        "print(\"\\n8. 2D array with 1 on border and 0 inside:\\n\", border_array)\n",
        "\n",
        "# Task 9:\n",
        "checkerboard = np.zeros((8, 8), dtype=int)\n",
        "checkerboard[1::2, ::2] = 1\n",
        "checkerboard[::2, 1::2] = 1\n",
        "print(\"\\n9. 8x8 checkerboard pattern:\\n\", checkerboard)"
      ]
    },
    {
      "cell_type": "markdown",
      "id": "4bf708ea",
      "metadata": {},
      "source": [
        "# Problem - 3: Array Operations:\n",
        "For the following arrays:\n",
        "\n",
        "x = np.array([[1,2],[3,5]]) and\n",
        "\n",
        "y = np.array([[5,6],[7,8]]);\n",
        "\n",
        "v = np.array([9,10]) and\n",
        "\n",
        "w = np.array([11,12]);\n",
        "# Complete all the task using numpy:\n",
        "1. Add the two array.\n",
        "2. Subtract the two array.\n",
        "3. Multiply the array with any integers of your choice.\n",
        "4. Find the square of each element of the array.\n",
        "5. Find the dot product between: v(and)w ; x(and)v ; x(and)y.\n",
        "6. Concatenate x(and)y along row and Concatenate v(and)w along column.\n",
        "{Hint:try np.concatenate() or np.vstack() functions.\n",
        "7. Concatenate x(and)v; if you get an error, observe and explain why did you get the error?"
      ]
    },
    {
      "cell_type": "code",
      "execution_count": null,
      "id": "8eb16cb9",
      "metadata": {},
      "outputs": [
        {
          "name": "stdout",
          "output_type": "stream",
          "text": [
            "1. Addition of x and y:\n",
            " [[ 6  8]\n",
            " [10 13]]\n",
            "\n",
            "2. Subtraction of x and y:\n",
            " [[-4 -4]\n",
            " [-4 -3]]\n",
            "\n",
            "3. Multiplication of x by 2:\n",
            " [[ 2  4]\n",
            " [ 6 10]]\n",
            "\n",
            "4. Square of each element of x:\n",
            " [[ 1  4]\n",
            " [ 9 25]]\n",
            "\n",
            "5. Dot products:\n",
            "Dot product of v and w: 219\n",
            "Dot product of x and v: [29 77]\n",
            "Dot product of x and y:\n",
            " [[19 22]\n",
            " [50 58]]\n",
            "\n",
            "6. Concatenation:\n",
            "Concatenate x and y along row:\n",
            " [[1 2]\n",
            " [3 5]\n",
            " [5 6]\n",
            " [7 8]]\n",
            "Concatenate v and w along column:\n",
            " [[ 9 11]\n",
            " [10 12]]\n",
            "\n",
            "7. Error when concatenating x and v: all the input arrays must have same number of dimensions, but the array at index 0 has 2 dimension(s) and the array at index 1 has 1 dimension(s)\n"
          ]
        }
      ],
      "source": [
        "import numpy as np\n",
        "\n",
        "# Given arrays\n",
        "x = np.array([[1, 2], [3, 5]])\n",
        "y = np.array([[5, 6], [7, 8]])\n",
        "v = np.array([9, 10])\n",
        "w = np.array([11, 12])\n",
        "\n",
        "# Task 1:\n",
        "add_result = x + y\n",
        "print(\"1. Addition of x and y:\\n\", add_result)\n",
        "\n",
        "# Task 2:\n",
        "subtract_result = x - y\n",
        "print(\"\\n2. Subtraction of x and y:\\n\", subtract_result)\n",
        "\n",
        "# Task 3:\n",
        "multiply_result = x * 2\n",
        "print(\"\\n3. Multiplication of x by 2:\\n\", multiply_result)\n",
        "\n",
        "# Task 4:\n",
        "square_result = x**2\n",
        "print(\"\\n4. Square of each element of x:\\n\", square_result)\n",
        "\n",
        "# Task 5:\n",
        "dot_vw = np.dot(v, w)  # Dot product of v and w\n",
        "dot_xv = np.dot(x, v)  # Dot product of x and v\n",
        "dot_xy = np.dot(x, y)  # Dot product of x and y\n",
        "print(\"\\n5. Dot products:\")\n",
        "print(\"Dot product of v and w:\", dot_vw)\n",
        "print(\"Dot product of x and v:\", dot_xv)\n",
        "print(\"Dot product of x and y:\\n\", dot_xy)\n",
        "\n",
        "# Task 6:\n",
        "concatenate_row = np.concatenate((x, y), axis=0)\n",
        "concatenate_col = np.concatenate((v[:, np.newaxis], w[:, np.newaxis]), axis=1)\n",
        "print(\"\\n6. Concatenation:\")\n",
        "print(\"Concatenate x and y along row:\\n\", concatenate_row)\n",
        "print(\"Concatenate v and w along column:\\n\", concatenate_col)\n",
        "\n",
        "# Task 7:\n",
        "try:\n",
        "    concatenate_xv = np.concatenate((x, v))\n",
        "    print(\"\\n7. Concatenate x and v:\\n\", concatenate_xv)\n",
        "except ValueError as e:\n",
        "    print(\"\\n7. Error when concatenating x and v:\", e)"
      ]
    },
    {
      "cell_type": "markdown",
      "id": "2e903894",
      "metadata": {},
      "source": [
        "# Problem - 4: Matrix Operations:\n"
      ]
    },
    {
      "cell_type": "markdown",
      "id": "044c8e7e",
      "metadata": {},
      "source": [
        "# For the following arrays:\n",
        "A = np.array([[3,4],[7,8]]) and\n",
        "\n",
        "B = np.array([[5,3],[2,1]]);"
      ]
    },
    {
      "cell_type": "markdown",
      "id": "983cf670",
      "metadata": {},
      "source": [
        "# Prove following with Numpy:\n",
        "Prove A.A−1 = I.\n",
        "\n",
        "Prove AB ̸= BA.\n",
        "\n",
        "Prove (AB)T = BTAT"
      ]
    },
    {
      "cell_type": "code",
      "execution_count": null,
      "id": "7573352d",
      "metadata": {},
      "outputs": [
        {
          "name": "stdout",
          "output_type": "stream",
          "text": [
            "1. A.A⁻¹:\n",
            " [[1.00000000e+00 0.00000000e+00]\n",
            " [1.77635684e-15 1.00000000e+00]]\n",
            "\n",
            "2. AB:\n",
            " [[23 13]\n",
            " [51 29]]\n",
            "BA:\n",
            " [[36 44]\n",
            " [13 16]]\n",
            "Are AB and BA equal? False\n",
            "\n",
            "3. (AB)ᵀ:\n",
            " [[23 51]\n",
            " [13 29]]\n",
            "BᵀAᵀ:\n",
            " [[23 51]\n",
            " [13 29]]\n",
            "\n",
            "Are (AB)ᵀ and BᵀAᵀ equal?\n",
            " True\n"
          ]
        }
      ],
      "source": [
        "import numpy as np\n",
        "\n",
        "# Given matrices\n",
        "A = np.array([[3, 4], [7, 8]])\n",
        "B = np.array([[5, 3], [2, 1]])\n",
        "\n",
        "# Task 1:\n",
        "try:\n",
        "    A_inv = np.linalg.inv(A)\n",
        "    identity_check = np.dot(A, A_inv)\n",
        "    print(\"1. A.A⁻¹:\\n\", identity_check)\n",
        "except np.linalg.LinAlgError:\n",
        "    print(\"1. A is not invertible.\")\n",
        "\n",
        "# Task 2:\n",
        "AB = np.dot(A, B)\n",
        "BA = np.dot(B, A)\n",
        "print(\"\\n2. AB:\\n\", AB)\n",
        "print(\"BA:\\n\", BA)\n",
        "print(\"Are AB and BA equal?\", np.array_equal(AB, BA))\n",
        "\n",
        "# Task 3:\n",
        "AB_transpose = AB.T\n",
        "B_transpose = B.T\n",
        "A_transpose = A.T\n",
        "BT_AT = np.dot(B_transpose, A_transpose)\n",
        "print(\"\\n3. (AB)ᵀ:\\n\", AB_transpose)\n",
        "print(\"BᵀAᵀ:\\n\", BT_AT)\n",
        "print(\"\\nAre (AB)ᵀ and BᵀAᵀ equal?\\n\", np.array_equal(AB_transpose, BT_AT))"
      ]
    },
    {
      "cell_type": "markdown",
      "id": "3a6efdeb",
      "metadata": {},
      "source": [
        "# Solve the following system of Linear equation using Inverse Methods.\n",
        "\n",
        "2x − 3y + z = −1\n",
        "\n",
        "x − y + 2z = −3\n",
        "\n",
        "3x + y − z = 9\n",
        "\n",
        "{Hint: First use Numpy array to represent the equation in Matrix form. Then Solve for: AX = B}"
      ]
    },
    {
      "cell_type": "code",
      "execution_count": null,
      "id": "207cdf85",
      "metadata": {},
      "outputs": [
        {
          "name": "stdout",
          "output_type": "stream",
          "text": [
            "Inverse of A:\n",
            " [[ 0.05263158  0.10526316  0.26315789]\n",
            " [-0.36842105  0.26315789  0.15789474]\n",
            " [-0.21052632  0.57894737 -0.05263158]]\n",
            "\n",
            "Solution for X (x, y, z):\n",
            " [ 2.  1. -2.]\n"
          ]
        }
      ],
      "source": [
        "import numpy as np\n",
        "\n",
        "A = np.array([\n",
        "    [2, -3, 1],\n",
        "    [1, -1, 2],\n",
        "    [3, 1, -1]\n",
        "])\n",
        "\n",
        "B = np.array([-1, -3, 9])\n",
        "\n",
        "try:\n",
        "    A_inv = np.linalg.inv(A)\n",
        "    print(\"Inverse of A:\\n\", A_inv)\n",
        "except np.linalg.LinAlgError:\n",
        "    print(\"Matrix A is not invertible.\")\n",
        "\n",
        "X = np.dot(A_inv, B)\n",
        "print(\"\\nSolution for X (x, y, z):\\n\", X)"
      ]
    },
    {
      "cell_type": "markdown",
      "id": "0b47d09b",
      "metadata": {},
      "source": [
        "# 10.2 Experiment: How Fast is Numpy?"
      ]
    },
    {
      "cell_type": "markdown",
      "id": "d3235a54",
      "metadata": {},
      "source": [
        "# 1. Element-wise Addition:\n",
        "\n",
        "• Using Python Lists, perform element-wise addition of two lists of size 1, 000, 000. Measure\n",
        "and Print the time taken for this operation.\n",
        "\n",
        "• Using Numpy Arrays, Repeat the calculation and measure and print the time taken for\n",
        "this operation."
      ]
    },
    {
      "cell_type": "code",
      "execution_count": null,
      "id": "63c651f5",
      "metadata": {},
      "outputs": [
        {
          "name": "stdout",
          "output_type": "stream",
          "text": [
            "Time taken for element-wise addition using Python Lists: 0.07033181190490723 seconds\n"
          ]
        }
      ],
      "source": [
        "#Using Python List\n",
        "\n",
        "import time\n",
        "\n",
        "list1 = [i for i in range(1000000)]\n",
        "list2 = [i for i in range(1000000)]\n",
        "\n",
        "start_time = time.time()\n",
        "result_list = [a + b for a, b in zip(list1, list2)]\n",
        "end_time = time.time()\n",
        "\n",
        "print(\"Time taken for element-wise addition using Python Lists:\", end_time - start_time, \"seconds\")"
      ]
    },
    {
      "cell_type": "code",
      "execution_count": null,
      "id": "c893216f",
      "metadata": {},
      "outputs": [
        {
          "name": "stdout",
          "output_type": "stream",
          "text": [
            "Time taken for element-wise addition using NumPy Arrays: 0.005162239074707031 seconds\n"
          ]
        }
      ],
      "source": [
        "# Using NumPy Arrays\n",
        "\n",
        "import numpy as np\n",
        "\n",
        "array1 = np.arange(1000000)\n",
        "array2 = np.arange(1000000)\n",
        "\n",
        "start_time = time.time()\n",
        "result_array = array1 + array2\n",
        "end_time = time.time()\n",
        "\n",
        "print(\"Time taken for element-wise addition using NumPy Arrays:\", end_time - start_time, \"seconds\")"
      ]
    },
    {
      "cell_type": "markdown",
      "id": "03c4cc7b",
      "metadata": {},
      "source": [
        "# 2. Element-wise Multiplication\n",
        "\n",
        "• Using Python Lists, perform element-wise multiplication of two lists of size 1, 000, 000.\n",
        "Measure and Print the time taken for this operation.\n",
        "\n",
        "• Using Numpy Arrays, Repeat the calculation and measure and print the time taken for\n",
        "this operation."
      ]
    },
    {
      "cell_type": "code",
      "execution_count": null,
      "id": "70dfd2bd",
      "metadata": {},
      "outputs": [
        {
          "name": "stdout",
          "output_type": "stream",
          "text": [
            "Time taken for element-wise multiplication using Python Lists: 0.08133339881896973 seconds\n"
          ]
        }
      ],
      "source": [
        "# Using Python Lists\n",
        "\n",
        "import time\n",
        "\n",
        "list1 = [i for i in range(1000000)]\n",
        "list2 = [i for i in range(1000000)]\n",
        "\n",
        "start_time = time.time()\n",
        "result_list = [a * b for a, b in zip(list1, list2)]\n",
        "end_time = time.time()\n",
        "\n",
        "print(\"Time taken for element-wise multiplication using Python Lists:\", end_time - start_time, \"seconds\")"
      ]
    },
    {
      "cell_type": "code",
      "execution_count": null,
      "id": "87409ac1",
      "metadata": {},
      "outputs": [
        {
          "name": "stdout",
          "output_type": "stream",
          "text": [
            "Time taken for element-wise multiplication using NumPy Arrays: 0.0025682449340820312 seconds\n"
          ]
        }
      ],
      "source": [
        "# Using Numpy Arrays\n",
        "\n",
        "import numpy as np\n",
        "\n",
        "array1 = np.arange(1000000)\n",
        "array2 = np.arange(1000000)\n",
        "start_time = time.time()\n",
        "result_array = array1 * array2\n",
        "end_time = time.time()\n",
        "\n",
        "print(\"Time taken for element-wise multiplication using NumPy Arrays:\", end_time - start_time, \"seconds\")"
      ]
    },
    {
      "cell_type": "markdown",
      "id": "fe446550",
      "metadata": {},
      "source": [
        "# Dot Product\n",
        "\n",
        "• Using Python Lists, compute the dot product of two lists of size 1, 000, 000. Measure and\n",
        "Print the time taken for this operation.\n",
        "\n",
        "• Using Numpy Arrays, Repeat the calculation and measure and print the time taken for\n",
        "this operation."
      ]
    },
    {
      "cell_type": "code",
      "execution_count": null,
      "id": "cd261622",
      "metadata": {},
      "outputs": [
        {
          "name": "stdout",
          "output_type": "stream",
          "text": [
            "Time taken for dot product using Python Lists: 0.19704842567443848 seconds\n",
            "Dot product: 333332833333500000\n"
          ]
        }
      ],
      "source": [
        "# Using Python Lists\n",
        "\n",
        "import time\n",
        "\n",
        "list1 = [i for i in range(1000000)]\n",
        "list2 = [i for i in range(1000000)]\n",
        "\n",
        "start_time = time.time()\n",
        "dot_product = sum(a * b for a, b in zip(list1, list2))\n",
        "end_time = time.time()\n",
        "print(\"Time taken for dot product using Python Lists:\", end_time - start_time, \"seconds\")\n",
        "print(\"Dot product:\", dot_product)\n"
      ]
    },
    {
      "cell_type": "code",
      "execution_count": null,
      "id": "7cd8e442",
      "metadata": {},
      "outputs": [
        {
          "name": "stdout",
          "output_type": "stream",
          "text": [
            "Time taken for dot product using NumPy Arrays: 0.0022063255310058594 seconds\n",
            "Dot product: 333332833333500000\n"
          ]
        }
      ],
      "source": [
        "# Using Numpy Arrays\n",
        "\n",
        "import numpy as np\n",
        "\n",
        "array1 = np.arange(1000000)\n",
        "array2 = np.arange(1000000)\n",
        "\n",
        "start_time = time.time()\n",
        "dot_product = np.dot(array1, array2)\n",
        "end_time = time.time()\n",
        "\n",
        "print(\"Time taken for dot product using NumPy Arrays:\", end_time - start_time, \"seconds\")\n",
        "print(\"Dot product:\", dot_product)"
      ]
    },
    {
      "cell_type": "markdown",
      "id": "d6a114af",
      "metadata": {},
      "source": [
        "# Matrix Multiplication\n",
        "\n",
        "• Using Python lists, perform matrix multiplication of two matrices of size 1000x1000. Measure and print the time taken for this operation.\n",
        "\n",
        "• Using NumPy arrays, perform matrix multiplication of two matrices of size 1000x1000.\n",
        "Measure and print the time taken for this operation."
      ]
    },
    {
      "cell_type": "code",
      "execution_count": null,
      "id": "ea75d412",
      "metadata": {},
      "outputs": [
        {
          "name": "stdout",
          "output_type": "stream",
          "text": [
            "Time taken for matrix multiplication: 0.06685280799865723 seconds\n"
          ]
        }
      ],
      "source": [
        "import numpy as np\n",
        "import time\n",
        "\n",
        "# Create two random matrices of size 1000x1000\n",
        "# These matrices will be filled with random numbers\n",
        "matrix_a = np.random.rand(1000, 1000)\n",
        "matrix_b = np.random.rand(1000, 1000)\n",
        "\n",
        "# Start the timer to measure how long the multiplication takes\n",
        "start_time = time.time()\n",
        "\n",
        "# Perform the matrix multiplication using numpy's dot function\n",
        "result = np.dot(matrix_a, matrix_b)\n",
        "\n",
        "# Stop the timer after the multiplication is done\n",
        "end_time = time.time()\n",
        "\n",
        "# Calculate the total time taken for the multiplication\n",
        "time_taken = end_time - start_time\n",
        "\n",
        "# Print the time taken in seconds\n",
        "print(f\"Time taken for matrix multiplication: {time_taken} seconds\")\n"
      ]
    },
    {
      "cell_type": "code",
      "execution_count": null,
      "id": "6ec3b036",
      "metadata": {},
      "outputs": [
        {
          "name": "stdout",
          "output_type": "stream",
          "text": [
            "Time taken for matrix multiplication using NumPy Arrays: 1.2934625148773193 seconds\n"
          ]
        }
      ],
      "source": [
        "import numpy as np  # Import the NumPy library for numerical operations\n",
        "\n",
        "# Create the first 1000x1000 matrix\n",
        "# Each element is the sum of its row and column indices (i + j)\n",
        "matrix1 = np.array([[i + j for j in range(1000)] for i in range(1000)])\n",
        "\n",
        "# Create the second 1000x1000 matrix in the same way\n",
        "matrix2 = np.array([[i + j for j in range(1000)] for i in range(1000)])\n",
        "\n",
        "# Start timing the matrix multiplication process\n",
        "start_time = time.time()\n",
        "\n",
        "# Perform the matrix multiplication using NumPy's dot function\n",
        "result = np.dot(matrix1, matrix2)\n",
        "\n",
        "# Stop timing after the multiplication is complete\n",
        "end_time = time.time()\n",
        "\n",
        "# Print the total time taken for the matrix multiplication\n",
        "print(\"Time taken for matrix multiplication using NumPy Arrays:\", end_time - start_time, \"seconds\")\n"
      ]
    },
    {
      "cell_type": "code",
      "execution_count": null,
      "id": "4299732e",
      "metadata": {},
      "outputs": [],
      "source": []
    },
    {
      "cell_type": "markdown",
      "id": "ea4eebc8",
      "metadata": {
        "id": "ea4eebc8"
      },
      "source": [
        "# Task - 1:\n",
        "Create a Python program that converts between different units of measurement.\n",
        "• The program should:\n",
        "1. Prompt the user to choose the type of conversion (e.g., length, weight, volume).\n",
        "2. Ask the user to input the value to be converted.\n",
        "3. Perform the conversion and display the result.\n",
        "4. Handle potential errors, such as invalid input or unsupported conversion types.\n",
        "• Requirements:\n",
        "1. Functions: Define at least one function to perform the conversion.\n",
        "2. Error Handling: Use try-except blocks to handle invalid input (e.g., non-numeric values).\n",
        "3. User Input: Prompt the user to select the conversion type and input the value.\n",
        "4. Docstrings: Include a docstring in your function to describe its purpose, parameters, and\n",
        "return value.\n",
        "• Conversion Options:\n",
        "1. Length:\n",
        "– Convert meters (m) to feet (ft).\n",
        "– Convert feet (ft) to meters (m).\n",
        "2. Weight:\n",
        "– Convert kilograms (kg) to pounds (lbs).\n",
        "– Convert pounds (lbs) to kilograms (kg).\n",
        "3. Volume:\n",
        "– Convert liters (L) to gallons (gal).\n",
        "– Convert gallons (gal) to liters (L)."
      ]
    },
    {
      "cell_type": "code",
      "execution_count": 38,
      "id": "d43b7d36",
      "metadata": {
        "colab": {
          "base_uri": "https://localhost:8080/"
        },
        "id": "d43b7d36",
        "outputId": "1098a653-7156-4085-8006-f9ff1795b1b9"
      },
      "outputs": [
        {
          "name": "stdout",
          "output_type": "stream",
          "text": [
            "Unit Converter: Length, Weight, Volume\n",
            "1. Length (m <-> ft)\n",
            "2. Weight (kg <-> lbs)\n",
            "3. Volume (L <-> gal)\n",
            "Choose the type of conversion (1-3): 1\n",
            "Enter the value to convert: 10\n",
            "Enter the unit (e.g., m, ft, kg, lbs, L, gal): m\n",
            "Converted value: 32.81 ft\n"
          ]
        }
      ],
      "source": [
        "def convert_length(value, unit):\n",
        "    \"\"\"\n",
        "    Convert length between meters (m) and feet (ft).\n",
        "    :param value: The numerical value to convert.\n",
        "    :param unit: The unit of the input value ('m' for meters, 'ft' for feet).\n",
        "    :return: Converted value with appropriate unit.\n",
        "    \"\"\"\n",
        "    if unit == 'm':\n",
        "        return value * 3.28084, 'ft'\n",
        "    elif unit == 'ft':\n",
        "        return value / 3.28084, 'm'\n",
        "    else:\n",
        "        raise ValueError(\"Invalid unit for length conversion\")\n",
        "\n",
        "def convert_weight(value, unit):\n",
        "    \"\"\"\n",
        "    Convert weight between kilograms (kg) and pounds (lbs).\n",
        "    :param value: The numerical value to convert.\n",
        "    :param unit: The unit of the input value ('kg' for kilograms, 'lbs' for pounds).\n",
        "    :return: Converted value with appropriate unit.\n",
        "    \"\"\"\n",
        "    if unit == 'kg':\n",
        "        return value * 2.20462, 'lbs'\n",
        "    elif unit == 'lbs':\n",
        "        return value / 2.20462, 'kg'\n",
        "    else:\n",
        "        raise ValueError(\"Invalid unit for weight conversion\")\n",
        "\n",
        "def convert_volume(value, unit):\n",
        "    \"\"\"\n",
        "    Convert volume between liters (L) and gallons (gal).\n",
        "    :param value: The numerical value to convert.\n",
        "    :param unit: The unit of the input value ('L' for liters, 'gal' for gallons).\n",
        "    :return: Converted value with appropriate unit.\n",
        "    \"\"\"\n",
        "    if unit == 'L':\n",
        "        return value * 0.264172, 'gal'\n",
        "    elif unit == 'gal':\n",
        "        return value / 0.264172, 'L'\n",
        "    else:\n",
        "        raise ValueError(\"Invalid unit for volume conversion\")\n",
        "\n",
        "def main():\n",
        "    print(\"Unit Converter: Length, Weight, Volume\")\n",
        "    print(\"1. Length (m <-> ft)\")\n",
        "    print(\"2. Weight (kg <-> lbs)\")\n",
        "    print(\"3. Volume (L <-> gal)\")\n",
        "\n",
        "    try:\n",
        "        choice = int(input(\"Choose the type of conversion (1-3): \"))\n",
        "        value = float(input(\"Enter the value to convert: \"))\n",
        "        unit = input(\"Enter the unit (e.g., m, ft, kg, lbs, L, gal): \").strip().lower()\n",
        "\n",
        "        if choice == 1:\n",
        "            result, new_unit = convert_length(value, unit)\n",
        "        elif choice == 2:\n",
        "            result, new_unit = convert_weight(value, unit)\n",
        "        elif choice == 3:\n",
        "            result, new_unit = convert_volume(value, unit)\n",
        "        else:\n",
        "            print(\"Invalid choice. Please select 1, 2, or 3.\")\n",
        "            return\n",
        "\n",
        "        print(f\"Converted value: {result:.2f} {new_unit}\")\n",
        "    except ValueError as e:\n",
        "        print(f\"Error: {e}. Please enter valid input.\")\n",
        "    except Exception as e:\n",
        "        print(f\"Unexpected error: {e}\")\n",
        "\n",
        "# Run the main function\n",
        "main()\n"
      ]
    },
    {
      "cell_type": "markdown",
      "id": "128454f1",
      "metadata": {
        "id": "128454f1"
      },
      "source": [
        "# Task - 2:\n",
        "\n",
        "Create a Python program that performs various mathematical operations on a list of numbers\n",
        "\n",
        "• The Program should:\n",
        "1. Prompt the user to choose an operation (e.g., find the sum, average, maximum, or minimumof the numbers).\n",
        "2. Ask the user to input a list of numbers (separated by spaces).\n",
        "3. Perform the selected operation and display the result.\n",
        "4. Handle potential errors, such as invalid input or empty lists.\n",
        "\n",
        "• Requirements:\n",
        "1. Functions: Define at least one function for each operation (sum, average, maximum, mini-mum).\n",
        "2. Error Handling: Use try-except blocks to handle invalid input (e.g., non-numeric values orempty lists).\n",
        "3. User Input: Prompt the user to select the operation and input the list of numbers.\n",
        "4. Docstrings: Include a docstring in each function to describe its purpose, parameters, andreturn value."
      ]
    },
    {
      "cell_type": "code",
      "execution_count": 39,
      "id": "793f62e7",
      "metadata": {
        "colab": {
          "base_uri": "https://localhost:8080/"
        },
        "id": "793f62e7",
        "outputId": "e9212f12-cc5b-4116-aa23-fd2ba9819114"
      },
      "outputs": [
        {
          "name": "stdout",
          "output_type": "stream",
          "text": [
            "Mathematical Operations on a List of Numbers\n",
            "1. Sum\n",
            "2. Average\n",
            "3. Maximum\n",
            "4. Minimum\n",
            "Choose an operation (1-4): 1\n",
            "Enter a list of numbers separated by spaces: 1 2 3 4 5\n",
            "Result: 15.0\n"
          ]
        }
      ],
      "source": [
        "def calculate_sum(numbers):\n",
        "    \"\"\"\n",
        "    Calculate the sum of a list of numbers.\n",
        "    :param numbers: List of numerical values.\n",
        "    :return: Sum of the numbers.\n",
        "    \"\"\"\n",
        "    return sum(numbers)\n",
        "\n",
        "def calculate_average(numbers):\n",
        "    \"\"\"\n",
        "    Calculate the average of a list of numbers.\n",
        "    :param numbers: List of numerical values.\n",
        "    :return: Average of the numbers.\n",
        "    \"\"\"\n",
        "    return sum(numbers) / len(numbers) if numbers else 0\n",
        "\n",
        "def find_maximum(numbers):\n",
        "    \"\"\"\n",
        "    Find the maximum value in a list of numbers.\n",
        "    :param numbers: List of numerical values.\n",
        "    :return: Maximum value.\n",
        "    \"\"\"\n",
        "    return max(numbers)\n",
        "\n",
        "def find_minimum(numbers):\n",
        "    \"\"\"\n",
        "    Find the minimum value in a list of numbers.\n",
        "    :param numbers: List of numerical values.\n",
        "    :return: Minimum value.\n",
        "    \"\"\"\n",
        "    return min(numbers)\n",
        "\n",
        "def main():\n",
        "    print(\"Mathematical Operations on a List of Numbers\")\n",
        "    print(\"1. Sum\")\n",
        "    print(\"2. Average\")\n",
        "    print(\"3. Maximum\")\n",
        "    print(\"4. Minimum\")\n",
        "\n",
        "    try:\n",
        "        choice = int(input(\"Choose an operation (1-4): \"))\n",
        "        numbers = input(\"Enter a list of numbers separated by spaces: \")\n",
        "        numbers = [float(num) for num in numbers.split()]\n",
        "\n",
        "        if not numbers:\n",
        "            raise ValueError(\"The list cannot be empty.\")\n",
        "\n",
        "        if choice == 1:\n",
        "            result = calculate_sum(numbers)\n",
        "        elif choice == 2:\n",
        "            result = calculate_average(numbers)\n",
        "        elif choice == 3:\n",
        "            result = find_maximum(numbers)\n",
        "        elif choice == 4:\n",
        "            result = find_minimum(numbers)\n",
        "        else:\n",
        "            print(\"Invalid choice. Please select 1, 2, 3, or 4.\")\n",
        "            return\n",
        "\n",
        "        print(f\"Result: {result}\")\n",
        "    except ValueError as e:\n",
        "        print(f\"Error: {e}. Please enter valid input.\")\n",
        "    except Exception as e:\n",
        "        print(f\"Unexpected error: {e}\")\n",
        "\n",
        "if __name__ == \"__main__\":\n",
        "    main()\n"
      ]
    },
    {
      "cell_type": "markdown",
      "id": "81950f08",
      "metadata": {
        "id": "81950f08"
      },
      "source": [
        "# 4.2 Exercise on List Manipulation:\n"
      ]
    },
    {
      "cell_type": "markdown",
      "id": "eabc6213",
      "metadata": {
        "id": "eabc6213"
      },
      "source": [
        "# 1. Extract Every Other Element:\n",
        "Write a Python function that extracts every other element from a list, starting from the first element.\n",
        "\n",
        "• Requirements:\n",
        "\n",
        "– Define a function extract every other(lst) that takes a list lst as input and returns a\n",
        "new list containing every other element from the original list.\n",
        "\n",
        "– Example: For the input [1, 2, 3, 4, 5, 6], the output should be [1, 3, 5]."
      ]
    },
    {
      "cell_type": "code",
      "execution_count": 40,
      "id": "786dafbc",
      "metadata": {
        "colab": {
          "base_uri": "https://localhost:8080/"
        },
        "id": "786dafbc",
        "outputId": "eb1b8fd6-42f2-4603-d081-98b8fd267a70"
      },
      "outputs": [
        {
          "name": "stdout",
          "output_type": "stream",
          "text": [
            "[1, 3, 5]\n"
          ]
        }
      ],
      "source": [
        "def extract_every_other(lst):\n",
        "    return lst[::2]\n",
        "\n",
        "input_list = [1, 2, 3, 4, 5, 6]\n",
        "output_list = extract_every_other(input_list)\n",
        "print(output_list)"
      ]
    },
    {
      "cell_type": "markdown",
      "id": "0151dc8c",
      "metadata": {
        "id": "0151dc8c"
      },
      "source": [
        "# 2. Slice a Sublist:\n",
        "Write a Python function that returns a sublist from a given list, starting from a specified index and\n",
        "ending at another specified index.\n",
        "\n",
        "• Requirements:\n",
        "\n",
        "– Define a function get sublist(lst, start, end) that takes a list lst, a starting index\n",
        "start, and an ending index end as input and returns the sublist from start to end (inclusive).\n",
        "\n",
        "– Example: For the input [1, 2, 3, 4, 5, 6] with start=2 and end=4, the output should\n",
        "be [3, 4, 5]."
      ]
    },
    {
      "cell_type": "code",
      "execution_count": 41,
      "id": "e9a99f9d",
      "metadata": {
        "colab": {
          "base_uri": "https://localhost:8080/"
        },
        "id": "e9a99f9d",
        "outputId": "72dd271c-bf41-4574-b546-653168766473"
      },
      "outputs": [
        {
          "name": "stdout",
          "output_type": "stream",
          "text": [
            "[3, 4, 5]\n"
          ]
        }
      ],
      "source": [
        "def get_sublist(lst, start, end):\n",
        "    return lst[start:end+1]\n",
        "\n",
        "\n",
        "input_list = [1, 2, 3, 4, 5, 6]\n",
        "start_index = 2\n",
        "end_index = 4\n",
        "output_list = get_sublist(input_list, start_index, end_index)\n",
        "print(output_list)"
      ]
    },
    {
      "cell_type": "markdown",
      "id": "15f4793c",
      "metadata": {
        "id": "15f4793c"
      },
      "source": [
        "# 3. Reverse a List Using Slicing:\n",
        "Write a Python function that reverses a list using slicing.\n",
        "\n",
        "• Requirements:\n",
        "\n",
        "– Define a function reverse list(lst) that takes a list lst and returns a reversed list using\n",
        "slicing.\n",
        "\n",
        "– Example: For the input [1, 2, 3, 4, 5], the output should be [5, 4, 3, 2, 1]."
      ]
    },
    {
      "cell_type": "code",
      "execution_count": 42,
      "id": "2e593ea6",
      "metadata": {
        "colab": {
          "base_uri": "https://localhost:8080/"
        },
        "id": "2e593ea6",
        "outputId": "aa929c18-c6ae-4256-dd48-addee1d52d19"
      },
      "outputs": [
        {
          "name": "stdout",
          "output_type": "stream",
          "text": [
            "[5, 4, 3, 2, 1]\n"
          ]
        }
      ],
      "source": [
        "def reverse_list(lst):\n",
        "    return lst[::-1]\n",
        "\n",
        "input_list = [1, 2, 3, 4, 5]\n",
        "output_list = reverse_list(input_list)\n",
        "print(output_list)"
      ]
    },
    {
      "cell_type": "markdown",
      "id": "fe7da036",
      "metadata": {
        "id": "fe7da036"
      },
      "source": [
        "# 4. Remove the First and Last Elements:\n",
        "Write a Python function that removes the first and last elements of a list and returns the resulting\n",
        "sublist.\n",
        "\n",
        "• Requirements:\n",
        "\n",
        "– Define a function remove first last(lst) that takes a list lst and returns a sublist without\n",
        "the first and last elements using slicing.\n",
        "\n",
        "– Example: For the input [1, 2, 3, 4, 5], the output should be [2, 3, 4]."
      ]
    },
    {
      "cell_type": "code",
      "execution_count": 43,
      "id": "6c3324d4",
      "metadata": {
        "colab": {
          "base_uri": "https://localhost:8080/"
        },
        "id": "6c3324d4",
        "outputId": "3b8c4c3d-c575-433b-e526-8e640bed55bd"
      },
      "outputs": [
        {
          "name": "stdout",
          "output_type": "stream",
          "text": [
            "[2, 3, 4]\n"
          ]
        }
      ],
      "source": [
        "def remove_first_last(lst):\n",
        "    return lst[1:-1]\n",
        "\n",
        "\n",
        "input_list = [1, 2, 3, 4, 5]\n",
        "output_list = remove_first_last(input_list)\n",
        "print(output_list)"
      ]
    },
    {
      "cell_type": "markdown",
      "id": "57d31a4e",
      "metadata": {
        "id": "57d31a4e"
      },
      "source": [
        "# 5. Get the First n Elements:\n",
        "Write a Python function that extracts the first n elements from a list.\n",
        "\n",
        "• Requirements:\n",
        "\n",
        "– Define a function get first n(lst, n) that takes a list lst and an integer n as input and\n",
        "returns the first n elements of the list using slicing.\n",
        "\n",
        "– Example: For the input [1, 2, 3, 4, 5] with n=3, the output should be [1, 2, 3]."
      ]
    },
    {
      "cell_type": "code",
      "execution_count": 44,
      "id": "e764e0ad",
      "metadata": {
        "colab": {
          "base_uri": "https://localhost:8080/"
        },
        "id": "e764e0ad",
        "outputId": "6c1c6431-c4c1-45d7-b64e-48344de44bd8"
      },
      "outputs": [
        {
          "name": "stdout",
          "output_type": "stream",
          "text": [
            "[1, 2, 3]\n"
          ]
        }
      ],
      "source": [
        "def get_first_n(lst, n):\n",
        "    return lst[:n]\n",
        "\n",
        "input_list = [1, 2, 3, 4, 5]\n",
        "n = 3\n",
        "output_list = get_first_n(input_list, n)\n",
        "print(output_list)"
      ]
    },
    {
      "cell_type": "markdown",
      "id": "1e4f817e",
      "metadata": {
        "id": "1e4f817e"
      },
      "source": [
        "# 6. Extract Elements from the End:\n",
        "Write a Python function that extracts the last n elements of a list using slicing.\n",
        "\n",
        "• Requirements:\n",
        "\n",
        "– Define a function get last n(lst, n) that takes a list lst and an integer n as input and\n",
        "returns the last n elements of the list.\n",
        "\n",
        "– Example: For the input [1, 2, 3, 4, 5] with n=2, the output should be [4, 5]."
      ]
    },
    {
      "cell_type": "code",
      "execution_count": 45,
      "id": "3561da8f",
      "metadata": {
        "colab": {
          "base_uri": "https://localhost:8080/"
        },
        "id": "3561da8f",
        "outputId": "cadd2fb2-49ac-4f57-a05d-7c5ba8da41bf"
      },
      "outputs": [
        {
          "name": "stdout",
          "output_type": "stream",
          "text": [
            "[3, 4, 5]\n"
          ]
        }
      ],
      "source": [
        "def get_last_n(lst, n):\n",
        "    return lst[-n:]\n",
        "\n",
        "input_list = [1, 2, 3, 4, 5]\n",
        "n = 3\n",
        "output_list = get_last_n(input_list, n)\n",
        "print(output_list)"
      ]
    },
    {
      "cell_type": "markdown",
      "id": "eb9c99e4",
      "metadata": {
        "id": "eb9c99e4"
      },
      "source": [
        "# 7. Extract Elements in Reverse Order:\n",
        "Write a Python function that extracts a list of elements in reverse order starting from the second-to-last\n",
        "element and skipping one element in between.\n",
        "\n",
        "• Requirements:\n",
        "\n",
        "– Define a function reverse skip(lst) that takes a list lst and returns a new list containing\n",
        "every second element starting from the second-to-last, moving backward.\n",
        "\n",
        "– Example: For the input [1, 2, 3, 4, 5, 6], the output should be [5, 3, 1]."
      ]
    },
    {
      "cell_type": "code",
      "execution_count": 46,
      "id": "6f39fd5b",
      "metadata": {
        "colab": {
          "base_uri": "https://localhost:8080/"
        },
        "id": "6f39fd5b",
        "outputId": "03d5de74-54eb-474f-822b-76cb56aa90be"
      },
      "outputs": [
        {
          "name": "stdout",
          "output_type": "stream",
          "text": [
            "[5, 3, 1]\n"
          ]
        }
      ],
      "source": [
        "def reverse_skip(lst):\n",
        "\n",
        "    return lst[-2::-2]\n",
        "\n",
        "\n",
        "input_list = [1, 2, 3, 4, 5, 6]\n",
        "output_list = reverse_skip(input_list)\n",
        "print(output_list)"
      ]
    },
    {
      "cell_type": "markdown",
      "id": "c0ea409c",
      "metadata": {
        "id": "c0ea409c"
      },
      "source": [
        "# 4.3 Exercise on Nested List:"
      ]
    },
    {
      "cell_type": "markdown",
      "id": "431a2f1b",
      "metadata": {
        "id": "431a2f1b"
      },
      "source": [
        "# 1. Flatten a Nested List:\n",
        "Write a Python function that takes a nested list and flattens it into a single list, where all the elements\n",
        "are in a single dimension.\n",
        "\n",
        "• Requirements:\n",
        "\n",
        "– Define a function flatten(lst) that takes a nested list lst and returns a flattened version\n",
        "of the list.\n",
        "\n",
        "– Example: For the input [[1, 2], [3, 4], [5]], the output should be [1, 2, 3, 4, 5]."
      ]
    },
    {
      "cell_type": "code",
      "execution_count": 47,
      "id": "1f35c63b",
      "metadata": {
        "colab": {
          "base_uri": "https://localhost:8080/"
        },
        "id": "1f35c63b",
        "outputId": "16d7e368-9627-43c8-e994-6c1d87b85de2"
      },
      "outputs": [
        {
          "name": "stdout",
          "output_type": "stream",
          "text": [
            "[5, 3, 1]\n"
          ]
        }
      ],
      "source": [
        "def reverse_skip(lst):\n",
        "    return lst[-2::-2]\n",
        "\n",
        "input_list = [1, 2, 3, 4, 5, 6]\n",
        "output_list = reverse_skip(input_list)\n",
        "print(output_list)"
      ]
    },
    {
      "cell_type": "markdown",
      "id": "84f517c4",
      "metadata": {
        "id": "84f517c4"
      },
      "source": [
        "# 2. Accessing Nested List Elements:\n",
        "Write a Python function that extracts a specific element from a nested list given its indices.\n",
        "\n",
        "• Requirements:\n",
        "\n",
        "– Define a function access nested element(lst, indices) that takes a nested list lst and\n",
        "a list of indices indices, and returns the element at that position.\n",
        "\n",
        "– Example: For the input lst = [[1, 2, 3], [4, 5, 6], [7, 8, 9]] with indices = [1,\n",
        "2], the output should be 6."
      ]
    },
    {
      "cell_type": "code",
      "execution_count": 48,
      "id": "f4d2b1e2",
      "metadata": {
        "colab": {
          "base_uri": "https://localhost:8080/"
        },
        "id": "f4d2b1e2",
        "outputId": "075428cd-6b5b-4f6c-9275-a9538b53d0e9"
      },
      "outputs": [
        {
          "name": "stdout",
          "output_type": "stream",
          "text": [
            "6\n"
          ]
        }
      ],
      "source": [
        "def access_nested_element(lst, indices):\n",
        "    current = lst\n",
        "    for index in indices:\n",
        "        current = current[index]\n",
        "    return current\n",
        "\n",
        "lst = [[1, 2, 3], [4, 5, 6], [7, 8, 9]]\n",
        "indices = [1, 2]\n",
        "output = access_nested_element(lst, indices)\n",
        "print(output)"
      ]
    },
    {
      "cell_type": "markdown",
      "id": "0730dee8",
      "metadata": {
        "id": "0730dee8"
      },
      "source": [
        "# 3. Sum of All Elements in a Nested List:\n",
        "Write a Python function that calculates the sum of all the numbers in a nested list (regardless of depth).\n",
        "\n",
        "• Requirements:\n",
        "\n",
        "– Define a function sum nested(lst) that takes a nested list lst and returns the sum of all\n",
        "the elements.\n",
        "\n",
        "– Example: For the input [[1, 2], [3, [4, 5]], 6], the output should be 21."
      ]
    },
    {
      "cell_type": "code",
      "execution_count": 49,
      "id": "da1ed322",
      "metadata": {
        "colab": {
          "base_uri": "https://localhost:8080/"
        },
        "id": "da1ed322",
        "outputId": "79e5ccf1-ac8a-486d-8220-42103286f846"
      },
      "outputs": [
        {
          "name": "stdout",
          "output_type": "stream",
          "text": [
            "21\n"
          ]
        }
      ],
      "source": [
        "def sum_nested(lst):\n",
        "    total = 0\n",
        "    for element in lst:\n",
        "\n",
        "        if isinstance(element, list):\n",
        "            total += sum_nested(element)\n",
        "        else:\n",
        "\n",
        "            total += element\n",
        "    return total\n",
        "\n",
        "input_list = [[1, 2], [3, [4, 5]], 6]\n",
        "output = sum_nested(input_list)\n",
        "print(output)"
      ]
    },
    {
      "cell_type": "markdown",
      "id": "b5646798",
      "metadata": {
        "id": "b5646798"
      },
      "source": [
        "# 4. Remove Specific Element from a Nested List:\n",
        "Write a Python function that removes all occurrences of a specific element from a nested list.\n",
        "\n",
        "• Requirements:\n",
        "\n",
        "– Define a function remove element(lst, elem) that removes elem from lst and returns the\n",
        "modified list.\n",
        "\n",
        "– Example: For the input lst = [[1, 2], [3, 2], [4, 5]] and elem = 2, the output should\n",
        "be [[1], [3], [4, 5]]."
      ]
    },
    {
      "cell_type": "code",
      "execution_count": 50,
      "id": "9cc3c34c",
      "metadata": {
        "colab": {
          "base_uri": "https://localhost:8080/"
        },
        "id": "9cc3c34c",
        "outputId": "a09c008f-2664-4189-bba5-8e2d0e667b74"
      },
      "outputs": [
        {
          "name": "stdout",
          "output_type": "stream",
          "text": [
            "[[1], [3], [4, 5]]\n"
          ]
        }
      ],
      "source": [
        "def remove_element(lst, elem):\n",
        "    result = []\n",
        "    for item in lst:\n",
        "\n",
        "        if isinstance(item, list):\n",
        "            result.append(remove_element(item, elem))\n",
        "        else:\n",
        "\n",
        "            if item != elem:\n",
        "                result.append(item)\n",
        "    return result\n",
        "\n",
        "input_list = [[1, 2], [3, 2], [4, 5]]\n",
        "elem = 2\n",
        "output_list = remove_element(input_list, elem)\n",
        "print(output_list)"
      ]
    },
    {
      "cell_type": "markdown",
      "id": "b3f7e7d6",
      "metadata": {
        "id": "b3f7e7d6"
      },
      "source": [
        "# 5. Find the Maximum Element in a Nested List:\n",
        "Write a Python function that finds the maximum element in a nested list (regardless of depth).\n",
        "\n",
        "• Requirements:\n",
        "\n",
        "– Define a function find max(lst) that takes a nested list lst and returns the maximum\n",
        "element.\n",
        "\n",
        "– Example: For the input [[1, 2], [3, [4, 5]], 6], the output should be 6."
      ]
    },
    {
      "cell_type": "code",
      "execution_count": 51,
      "id": "07de6331",
      "metadata": {
        "colab": {
          "base_uri": "https://localhost:8080/"
        },
        "id": "07de6331",
        "outputId": "0a66bdee-1924-4e2f-e61c-28b98151ff34"
      },
      "outputs": [
        {
          "name": "stdout",
          "output_type": "stream",
          "text": [
            "6\n"
          ]
        }
      ],
      "source": [
        "def find_max(lst):\n",
        "    max_val = None\n",
        "    for item in lst:\n",
        "\n",
        "        if isinstance(item, list):\n",
        "            nested_max = find_max(item)\n",
        "\n",
        "            if max_val is None or nested_max > max_val:\n",
        "                max_val = nested_max\n",
        "        else:\n",
        "\n",
        "            if max_val is None or item > max_val:\n",
        "                max_val = item\n",
        "    return max_val\n",
        "\n",
        "input_list = [[1, 2], [3, [4, 5]], 6]\n",
        "output = find_max(input_list)\n",
        "print(output)"
      ]
    },
    {
      "cell_type": "markdown",
      "id": "f5e737c3",
      "metadata": {
        "id": "f5e737c3"
      },
      "source": [
        "# 6. Count Occurrences of an Element in a Nested List:\n",
        "Write a Python function that counts how many times a specific element appears in a nested list.\n",
        "\n",
        "• Requirements:\n",
        "\n",
        "– Define a function count occurrences(lst, elem) that counts the occurrences of elem in\n",
        "the nested list lst.\n",
        "\n",
        "– Example: For the input lst = [[1, 2], [2, 3], [2, 4]] and elem = 2, the output should\n",
        "be 3."
      ]
    },
    {
      "cell_type": "code",
      "execution_count": 52,
      "id": "0c1fe23c",
      "metadata": {
        "colab": {
          "base_uri": "https://localhost:8080/"
        },
        "id": "0c1fe23c",
        "outputId": "39ceecf5-2b84-4012-a0e8-abf165ffa4a3"
      },
      "outputs": [
        {
          "name": "stdout",
          "output_type": "stream",
          "text": [
            "4\n"
          ]
        }
      ],
      "source": [
        "def count_occurrences(lst, elem):\n",
        "    count = 0\n",
        "    for item in lst:\n",
        "\n",
        "        if isinstance(item, list):\n",
        "            count += count_occurrences(item, elem)\n",
        "        else:\n",
        "\n",
        "            if item == elem:\n",
        "                count += 1\n",
        "    return count\n",
        "\n",
        "input_list = [[1, 2], [2, 3], [2, 4], [2,6]]\n",
        "elem = 2\n",
        "output = count_occurrences(input_list, elem)\n",
        "print(output)"
      ]
    },
    {
      "cell_type": "markdown",
      "id": "ab1c2c89",
      "metadata": {
        "id": "ab1c2c89"
      },
      "source": [
        "# 7. Flatten a List of Lists of Lists:\n",
        "Write a Python function that flattens a list of lists of lists into a single list, regardless of the depth.\n",
        "\n",
        "• Requirements:\n",
        "\n",
        "– Define a function deep flatten(lst) that takes a deeply nested list lst and returns a single\n",
        "flattened list.\n",
        "\n",
        "– Example: For the input [[[1, 2], [3, 4]], [[5, 6], [7, 8]]], the output should be\n",
        "[1, 2, 3, 4, 5, 6, 7, 8]."
      ]
    },
    {
      "cell_type": "code",
      "execution_count": 53,
      "id": "116000cc",
      "metadata": {
        "colab": {
          "base_uri": "https://localhost:8080/"
        },
        "id": "116000cc",
        "outputId": "e90bb8ac-c0c6-4a79-9a51-fd4ecab85154"
      },
      "outputs": [
        {
          "name": "stdout",
          "output_type": "stream",
          "text": [
            "[1, 2, 3, 4, 5, 6, 7, 8]\n"
          ]
        }
      ],
      "source": [
        "def deep_flatten(lst):\n",
        "    flattened = []\n",
        "    for item in lst:\n",
        "\n",
        "        if isinstance(item, list):\n",
        "            flattened.extend(deep_flatten(item))\n",
        "        else:\n",
        "\n",
        "            flattened.append(item)\n",
        "    return flattened\n",
        "\n",
        "input_list = [[[1, 2], [3, 4]], [[5, 6], [7, 8]]]\n",
        "output_list = deep_flatten(input_list)\n",
        "print(output_list)"
      ]
    },
    {
      "cell_type": "markdown",
      "id": "3e25ff6c",
      "metadata": {
        "id": "3e25ff6c"
      },
      "source": [
        "# 8. Nested List Average:\n",
        "Write a Python function that calculates the average of all elements in a nested list.\n",
        "\n",
        "• Requirements:\n",
        "\n",
        "– Define a function average nested(lst) that takes a nested list lst and returns the average\n",
        "of all the elements.\n",
        "\n",
        "– Example: For the input [[1, 2], [3, 4], [5, 6]], the output should be 3.5."
      ]
    },
    {
      "cell_type": "code",
      "execution_count": 54,
      "id": "cc575834",
      "metadata": {
        "colab": {
          "base_uri": "https://localhost:8080/"
        },
        "id": "cc575834",
        "outputId": "1fa295ee-6dfa-4036-9146-8f08ef2f40ff"
      },
      "outputs": [
        {
          "name": "stdout",
          "output_type": "stream",
          "text": [
            "3.5\n"
          ]
        }
      ],
      "source": [
        "def average_nested(lst):\n",
        "    total_sum = 0\n",
        "    total_count = 0\n",
        "\n",
        "    def recursive_helper(lst):\n",
        "        nonlocal total_sum, total_count\n",
        "        for item in lst:\n",
        "\n",
        "            if isinstance(item, list):\n",
        "                recursive_helper(item)\n",
        "            else:\n",
        "\n",
        "                total_sum += item\n",
        "                total_count += 1\n",
        "\n",
        "    recursive_helper(lst)\n",
        "\n",
        "\n",
        "    return total_sum / total_count if total_count > 0 else 0\n",
        "\n",
        "input_list = [[1, 2], [3, 4], [5, 6]]\n",
        "output = average_nested(input_list)\n",
        "print(output)"
      ]
    },
    {
      "cell_type": "markdown",
      "id": "229b9f4f",
      "metadata": {
        "id": "229b9f4f"
      },
      "source": [
        "# 10 To - Do - NumPy"
      ]
    },
    {
      "cell_type": "markdown",
      "id": "02732794",
      "metadata": {
        "id": "02732794"
      },
      "source": [
        "# 10.1 Basic Vector and Matrix Operation with Numpy"
      ]
    },
    {
      "cell_type": "markdown",
      "id": "ba5e38e0",
      "metadata": {
        "id": "ba5e38e0"
      },
      "source": [
        "\n",
        "# Problem - 1: Array Creation:\n",
        "\n",
        "Complete the following Tasks:\n",
        "1. Initialize an empty array with size 2X2.\n",
        "2. Initialize an all one array with size 4X2.\n",
        "3. Return a new array of given shape and type, filled with fill value.{Hint: np.full}\n",
        "4. Return a new array of zeros with same shape and type as a given array.{Hint: np.zeros like}\n",
        "5. Return a new array of ones with same shape and type as a given array.{Hint: np.ones like}\n",
        "6. For an existing list new_list = [1,2,3,4] convert to an numpy array.{Hint: np.array()}\n"
      ]
    },
    {
      "cell_type": "code",
      "execution_count": 55,
      "id": "84b559e3",
      "metadata": {
        "colab": {
          "base_uri": "https://localhost:8080/"
        },
        "id": "84b559e3",
        "outputId": "c9d09972-3acc-40fb-ef43-9a3797550b7f"
      },
      "outputs": [
        {
          "name": "stdout",
          "output_type": "stream",
          "text": [
            "1. Empty 2x2 array:\n",
            " [[4.9e-324 9.9e-324]\n",
            " [1.5e-323 2.0e-323]]\n",
            "\n",
            "2. All ones 4x2 array:\n",
            " [[1. 1.]\n",
            " [1. 1.]\n",
            " [1. 1.]\n",
            " [1. 1.]]\n",
            "\n",
            "3. Array filled with value 5:\n",
            " [[5 5 5]\n",
            " [5 5 5]\n",
            " [5 5 5]]\n",
            "\n",
            "4. Zeros array with same shape as given array:\n",
            " [[0 0]\n",
            " [0 0]]\n",
            "\n",
            "5. Ones array with same shape as given array:\n",
            " [[1 1]\n",
            " [1 1]]\n",
            "\n",
            "6. Numpy array from list:\n",
            " [1 2 3 4]\n"
          ]
        }
      ],
      "source": [
        "import numpy as np\n",
        "\n",
        "# Task 1:\n",
        "empty_array = np.empty((2, 2))\n",
        "print(\"1. Empty 2x2 array:\\n\", empty_array)\n",
        "\n",
        "# Task 2:\n",
        "ones_array = np.ones((4, 2))\n",
        "print(\"\\n2. All ones 4x2 array:\\n\", ones_array)\n",
        "\n",
        "# Task 3:\n",
        "fill_value_array = np.full((3, 3), 5)\n",
        "print(\"\\n3. Array filled with value 5:\\n\", fill_value_array)\n",
        "\n",
        "# Task 4:\n",
        "given_array = np.array([[1, 2], [3, 4]])\n",
        "zeros_like_array = np.zeros_like(given_array)\n",
        "print(\"\\n4. Zeros array with same shape as given array:\\n\", zeros_like_array)\n",
        "\n",
        "# Task 5:\n",
        "ones_like_array = np.ones_like(given_array)\n",
        "print(\"\\n5. Ones array with same shape as given array:\\n\", ones_like_array)\n",
        "\n",
        "# Task 6:\n",
        "new_list = [1, 2, 3, 4]\n",
        "numpy_array = np.array(new_list)\n",
        "print(\"\\n6. Numpy array from list:\\n\", numpy_array)"
      ]
    },
    {
      "cell_type": "markdown",
      "id": "688cee22",
      "metadata": {
        "id": "688cee22"
      },
      "source": [
        "# Problem - 2: Array Manipulation: Numerical Ranges and Array indexing:\n",
        "# Complete the following tasks:\n",
        "\n",
        "1. Create an array with values ranging from 10 to 49. {Hint:np.arrange()}.\n",
        "2. Create a 3X3 matrix with values ranging from 0 to 8.\n",
        "{Hint:look for np.reshape()}\n",
        "3. Create a 3X3 identity matrix.{Hint:np.eye()}\n",
        "4. Create a random array of size 30 and find the mean of the array.\n",
        "{Hint:check for np.random.random() and array.mean() function}\n",
        "5. Create a 10X10 array with random values and find the minimum and maximum values.\n",
        "6. Create a zero array of size 10 and replace 5th element with 1.\n",
        "7. Reverse an array arr = [1,2,0,0,4,0].\n",
        "8. Create a 2d array with 1 on border and 0 inside.\n",
        "9. Create a 8X8 matrix and fill it with a checkerboard pattern."
      ]
    },
    {
      "cell_type": "code",
      "execution_count": 56,
      "id": "c792c103",
      "metadata": {
        "colab": {
          "base_uri": "https://localhost:8080/"
        },
        "id": "c792c103",
        "outputId": "04746516-49b0-4da9-817e-9c019c02b46a"
      },
      "outputs": [
        {
          "name": "stdout",
          "output_type": "stream",
          "text": [
            "1. Array with values from 10 to 49:\n",
            " [10 11 12 13 14 15 16 17 18 19 20 21 22 23 24 25 26 27 28 29 30 31 32 33\n",
            " 34 35 36 37 38 39 40 41 42 43 44 45 46 47 48 49]\n",
            "\n",
            "2. 3x3 matrix with values from 0 to 8:\n",
            " [[0 1 2]\n",
            " [3 4 5]\n",
            " [6 7 8]]\n",
            "\n",
            "3. 3x3 identity matrix:\n",
            " [[1. 0. 0.]\n",
            " [0. 1. 0.]\n",
            " [0. 0. 1.]]\n",
            "\n",
            "4. Random array of size 30:\n",
            " [0.42584436 0.7223849  0.66568674 0.86667318 0.63505721 0.8963853\n",
            " 0.27484701 0.21519812 0.0639802  0.87863327 0.61169421 0.44285377\n",
            " 0.71779477 0.63541844 0.81410925 0.12988994 0.60782054 0.26709434\n",
            " 0.9748774  0.43633364 0.33576111 0.16298894 0.77520442 0.06408262\n",
            " 0.49763849 0.29867259 0.75581466 0.71310668 0.91171592 0.93739195]\n",
            "Mean of the array: 0.5578317996708596\n",
            "\n",
            "5. 10x10 random array:\n",
            " [[0.17333424 0.39582043 0.34792363 0.11719648 0.61839269 0.67640243\n",
            "  0.4904744  0.24455865 0.19059002 0.88438599]\n",
            " [0.81442617 0.78291723 0.81708784 0.32318687 0.56079018 0.66829619\n",
            "  0.07932334 0.4950771  0.0471673  0.00334302]\n",
            " [0.11236668 0.90521636 0.5889092  0.23311561 0.7806104  0.08615098\n",
            "  0.19038632 0.15097927 0.17449773 0.31485138]\n",
            " [0.46498172 0.65959259 0.05606344 0.37589132 0.7677146  0.07166039\n",
            "  0.94438439 0.22454667 0.43941663 0.35527506]\n",
            " [0.10344176 0.13835775 0.3941535  0.33315212 0.57254865 0.59236336\n",
            "  0.10207185 0.41600509 0.14430641 0.92531037]\n",
            " [0.86166168 0.44036168 0.78143083 0.56966458 0.66919446 0.34515562\n",
            "  0.23696587 0.78673972 0.39846179 0.92856773]\n",
            " [0.41273122 0.97773221 0.83630072 0.92469479 0.58146869 0.13769358\n",
            "  0.61329461 0.90188169 0.31605671 0.9448282 ]\n",
            " [0.50769285 0.20303949 0.4137193  0.37357667 0.50464827 0.4460423\n",
            "  0.19315706 0.91945822 0.46914828 0.90373634]\n",
            " [0.28235162 0.43146516 0.95488755 0.00534464 0.6313276  0.35699809\n",
            "  0.07603973 0.61397949 0.55144376 0.10227029]\n",
            " [0.97700417 0.6452904  0.77014467 0.24926026 0.30001434 0.7851868\n",
            "  0.72111371 0.81605878 0.81879634 0.46453785]]\n",
            "Minimum value: 0.0033430182818686704\n",
            "Maximum value: 0.9777322120118778\n",
            "\n",
            "6. Zero array with 5th element replaced by 1:\n",
            " [0. 0. 0. 0. 1. 0. 0. 0. 0. 0.]\n",
            "\n",
            "7. Reversed array:\n",
            " [0 4 0 0 2 1]\n",
            "\n",
            "8. 2D array with 1 on border and 0 inside:\n",
            " [[1. 1. 1. 1. 1.]\n",
            " [1. 0. 0. 0. 1.]\n",
            " [1. 0. 0. 0. 1.]\n",
            " [1. 0. 0. 0. 1.]\n",
            " [1. 1. 1. 1. 1.]]\n",
            "\n",
            "9. 8x8 checkerboard pattern:\n",
            " [[0 1 0 1 0 1 0 1]\n",
            " [1 0 1 0 1 0 1 0]\n",
            " [0 1 0 1 0 1 0 1]\n",
            " [1 0 1 0 1 0 1 0]\n",
            " [0 1 0 1 0 1 0 1]\n",
            " [1 0 1 0 1 0 1 0]\n",
            " [0 1 0 1 0 1 0 1]\n",
            " [1 0 1 0 1 0 1 0]]\n"
          ]
        }
      ],
      "source": [
        "import numpy as np\n",
        "\n",
        "# Task 1:\n",
        "array_range = np.arange(10, 50)\n",
        "print(\"1. Array with values from 10 to 49:\\n\", array_range)\n",
        "\n",
        "# Task 2:\n",
        "matrix_3x3 = np.arange(0, 9).reshape(3, 3)\n",
        "print(\"\\n2. 3x3 matrix with values from 0 to 8:\\n\", matrix_3x3)\n",
        "\n",
        "# Task 3:\n",
        "identity_matrix = np.eye(3)\n",
        "print(\"\\n3. 3x3 identity matrix:\\n\", identity_matrix)\n",
        "\n",
        "# Task 4:\n",
        "random_array = np.random.random(30)\n",
        "mean_value = random_array.mean()\n",
        "print(\"\\n4. Random array of size 30:\\n\", random_array)\n",
        "print(\"Mean of the array:\", mean_value)\n",
        "\n",
        "# Task 5:\n",
        "random_10x10 = np.random.random((10, 10))\n",
        "min_value = random_10x10.min()\n",
        "max_value = random_10x10.max()\n",
        "print(\"\\n5. 10x10 random array:\\n\", random_10x10)\n",
        "print(\"Minimum value:\", min_value)\n",
        "print(\"Maximum value:\", max_value)\n",
        "\n",
        "# Task 6:\n",
        "zero_array = np.zeros(10)\n",
        "zero_array[4] = 1\n",
        "print(\"\\n6. Zero array with 5th element replaced by 1:\\n\", zero_array)\n",
        "\n",
        "# Task 7:\n",
        "arr = np.array([1, 2, 0, 0, 4, 0])\n",
        "reversed_arr = arr[::-1]\n",
        "print(\"\\n7. Reversed array:\\n\", reversed_arr)\n",
        "\n",
        "# Task 8:\n",
        "border_array = np.ones((5, 5))\n",
        "border_array[1:-1, 1:-1] = 0\n",
        "print(\"\\n8. 2D array with 1 on border and 0 inside:\\n\", border_array)\n",
        "\n",
        "# Task 9:\n",
        "checkerboard = np.zeros((8, 8), dtype=int)\n",
        "checkerboard[1::2, ::2] = 1\n",
        "checkerboard[::2, 1::2] = 1\n",
        "print(\"\\n9. 8x8 checkerboard pattern:\\n\", checkerboard)"
      ]
    },
    {
      "cell_type": "markdown",
      "id": "0dcc5ccd",
      "metadata": {
        "id": "0dcc5ccd"
      },
      "source": [
        "# Problem - 3: Array Operations:\n",
        "For the following arrays:\n",
        "\n",
        "x = np.array([[1,2],[3,5]]) and\n",
        "\n",
        "y = np.array([[5,6],[7,8]]);\n",
        "\n",
        "v = np.array([9,10]) and\n",
        "\n",
        "w = np.array([11,12]);\n",
        "# Complete all the task using numpy:\n",
        "1. Add the two array.\n",
        "2. Subtract the two array.\n",
        "3. Multiply the array with any integers of your choice.\n",
        "4. Find the square of each element of the array.\n",
        "5. Find the dot product between: v(and)w ; x(and)v ; x(and)y.\n",
        "6. Concatenate x(and)y along row and Concatenate v(and)w along column.\n",
        "{Hint:try np.concatenate() or np.vstack() functions.\n",
        "7. Concatenate x(and)v; if you get an error, observe and explain why did you get the error?"
      ]
    },
    {
      "cell_type": "code",
      "execution_count": 57,
      "id": "b22bf907",
      "metadata": {
        "colab": {
          "base_uri": "https://localhost:8080/"
        },
        "id": "b22bf907",
        "outputId": "9f4afaaf-8325-4022-ac5b-dbf001c27f57"
      },
      "outputs": [
        {
          "name": "stdout",
          "output_type": "stream",
          "text": [
            "1. Addition of x and y:\n",
            " [[ 6  8]\n",
            " [10 13]]\n",
            "\n",
            "2. Subtraction of x and y:\n",
            " [[-4 -4]\n",
            " [-4 -3]]\n",
            "\n",
            "3. Multiplication of x by 2:\n",
            " [[ 2  4]\n",
            " [ 6 10]]\n",
            "\n",
            "4. Square of each element of x:\n",
            " [[ 1  4]\n",
            " [ 9 25]]\n",
            "\n",
            "5. Dot products:\n",
            "Dot product of v and w: 219\n",
            "Dot product of x and v: [29 77]\n",
            "Dot product of x and y:\n",
            " [[19 22]\n",
            " [50 58]]\n",
            "\n",
            "6. Concatenation:\n",
            "Concatenate x and y along row:\n",
            " [[1 2]\n",
            " [3 5]\n",
            " [5 6]\n",
            " [7 8]]\n",
            "Concatenate v and w along column:\n",
            " [[ 9 11]\n",
            " [10 12]]\n",
            "\n",
            "7. Error when concatenating x and v: all the input arrays must have same number of dimensions, but the array at index 0 has 2 dimension(s) and the array at index 1 has 1 dimension(s)\n"
          ]
        }
      ],
      "source": [
        "import numpy as np\n",
        "\n",
        "# Given arrays\n",
        "x = np.array([[1, 2], [3, 5]])\n",
        "y = np.array([[5, 6], [7, 8]])\n",
        "v = np.array([9, 10])\n",
        "w = np.array([11, 12])\n",
        "\n",
        "# Task 1:\n",
        "add_result = x + y\n",
        "print(\"1. Addition of x and y:\\n\", add_result)\n",
        "\n",
        "# Task 2:\n",
        "subtract_result = x - y\n",
        "print(\"\\n2. Subtraction of x and y:\\n\", subtract_result)\n",
        "\n",
        "# Task 3:\n",
        "multiply_result = x * 2\n",
        "print(\"\\n3. Multiplication of x by 2:\\n\", multiply_result)\n",
        "\n",
        "# Task 4:\n",
        "square_result = x**2\n",
        "print(\"\\n4. Square of each element of x:\\n\", square_result)\n",
        "\n",
        "# Task 5:\n",
        "dot_vw = np.dot(v, w)  # Dot product of v and w\n",
        "dot_xv = np.dot(x, v)  # Dot product of x and v\n",
        "dot_xy = np.dot(x, y)  # Dot product of x and y\n",
        "print(\"\\n5. Dot products:\")\n",
        "print(\"Dot product of v and w:\", dot_vw)\n",
        "print(\"Dot product of x and v:\", dot_xv)\n",
        "print(\"Dot product of x and y:\\n\", dot_xy)\n",
        "\n",
        "# Task 6:\n",
        "concatenate_row = np.concatenate((x, y), axis=0)\n",
        "concatenate_col = np.concatenate((v[:, np.newaxis], w[:, np.newaxis]), axis=1)\n",
        "print(\"\\n6. Concatenation:\")\n",
        "print(\"Concatenate x and y along row:\\n\", concatenate_row)\n",
        "print(\"Concatenate v and w along column:\\n\", concatenate_col)\n",
        "\n",
        "# Task 7:\n",
        "try:\n",
        "    concatenate_xv = np.concatenate((x, v))\n",
        "    print(\"\\n7. Concatenate x and v:\\n\", concatenate_xv)\n",
        "except ValueError as e:\n",
        "    print(\"\\n7. Error when concatenating x and v:\", e)"
      ]
    },
    {
      "cell_type": "markdown",
      "id": "86d42ba1",
      "metadata": {
        "id": "86d42ba1"
      },
      "source": [
        "# Problem - 4: Matrix Operations:\n"
      ]
    },
    {
      "cell_type": "markdown",
      "id": "ed206d4d",
      "metadata": {
        "id": "ed206d4d"
      },
      "source": [
        "# For the following arrays:\n",
        "A = np.array([[3,4],[7,8]]) and\n",
        "\n",
        "B = np.array([[5,3],[2,1]]);"
      ]
    },
    {
      "cell_type": "markdown",
      "id": "d439d384",
      "metadata": {
        "id": "d439d384"
      },
      "source": [
        "# Prove following with Numpy:\n",
        "Prove A.A−1 = I.\n",
        "\n",
        "Prove AB ̸= BA.\n",
        "\n",
        "Prove (AB)T = BTAT"
      ]
    },
    {
      "cell_type": "code",
      "execution_count": 58,
      "id": "9f582b17",
      "metadata": {
        "colab": {
          "base_uri": "https://localhost:8080/"
        },
        "id": "9f582b17",
        "outputId": "41e63006-c91c-453d-e0f6-0dc75649f33e"
      },
      "outputs": [
        {
          "name": "stdout",
          "output_type": "stream",
          "text": [
            "1. A.A⁻¹:\n",
            " [[1.00000000e+00 0.00000000e+00]\n",
            " [1.77635684e-15 1.00000000e+00]]\n",
            "\n",
            "2. AB:\n",
            " [[23 13]\n",
            " [51 29]]\n",
            "BA:\n",
            " [[36 44]\n",
            " [13 16]]\n",
            "Are AB and BA equal? False\n",
            "\n",
            "3. (AB)ᵀ:\n",
            " [[23 51]\n",
            " [13 29]]\n",
            "BᵀAᵀ:\n",
            " [[23 51]\n",
            " [13 29]]\n",
            "\n",
            "Are (AB)ᵀ and BᵀAᵀ equal?\n",
            " True\n"
          ]
        }
      ],
      "source": [
        "import numpy as np\n",
        "\n",
        "# Given matrices\n",
        "A = np.array([[3, 4], [7, 8]])\n",
        "B = np.array([[5, 3], [2, 1]])\n",
        "\n",
        "# Task 1:\n",
        "try:\n",
        "    A_inv = np.linalg.inv(A)\n",
        "    identity_check = np.dot(A, A_inv)\n",
        "    print(\"1. A.A⁻¹:\\n\", identity_check)\n",
        "except np.linalg.LinAlgError:\n",
        "    print(\"1. A is not invertible.\")\n",
        "\n",
        "# Task 2:\n",
        "AB = np.dot(A, B)\n",
        "BA = np.dot(B, A)\n",
        "print(\"\\n2. AB:\\n\", AB)\n",
        "print(\"BA:\\n\", BA)\n",
        "print(\"Are AB and BA equal?\", np.array_equal(AB, BA))\n",
        "\n",
        "# Task 3:\n",
        "AB_transpose = AB.T\n",
        "B_transpose = B.T\n",
        "A_transpose = A.T\n",
        "BT_AT = np.dot(B_transpose, A_transpose)\n",
        "print(\"\\n3. (AB)ᵀ:\\n\", AB_transpose)\n",
        "print(\"BᵀAᵀ:\\n\", BT_AT)\n",
        "print(\"\\nAre (AB)ᵀ and BᵀAᵀ equal?\\n\", np.array_equal(AB_transpose, BT_AT))"
      ]
    },
    {
      "cell_type": "markdown",
      "id": "72cb4998",
      "metadata": {
        "id": "72cb4998"
      },
      "source": [
        "# Solve the following system of Linear equation using Inverse Methods.\n",
        "\n",
        "2x − 3y + z = −1\n",
        "\n",
        "x − y + 2z = −3\n",
        "\n",
        "3x + y − z = 9\n",
        "\n",
        "{Hint: First use Numpy array to represent the equation in Matrix form. Then Solve for: AX = B}"
      ]
    },
    {
      "cell_type": "code",
      "execution_count": 59,
      "id": "0407a789",
      "metadata": {
        "colab": {
          "base_uri": "https://localhost:8080/"
        },
        "id": "0407a789",
        "outputId": "ca3a4533-11ba-412c-9882-0e25cc3ba728"
      },
      "outputs": [
        {
          "name": "stdout",
          "output_type": "stream",
          "text": [
            "Inverse of A:\n",
            " [[ 0.05263158  0.10526316  0.26315789]\n",
            " [-0.36842105  0.26315789  0.15789474]\n",
            " [-0.21052632  0.57894737 -0.05263158]]\n",
            "\n",
            "Solution for X (x, y, z):\n",
            " [ 2.  1. -2.]\n"
          ]
        }
      ],
      "source": [
        "import numpy as np\n",
        "\n",
        "A = np.array([\n",
        "    [2, -3, 1],\n",
        "    [1, -1, 2],\n",
        "    [3, 1, -1]\n",
        "])\n",
        "\n",
        "B = np.array([-1, -3, 9])\n",
        "\n",
        "try:\n",
        "    A_inv = np.linalg.inv(A)\n",
        "    print(\"Inverse of A:\\n\", A_inv)\n",
        "except np.linalg.LinAlgError:\n",
        "    print(\"Matrix A is not invertible.\")\n",
        "\n",
        "X = np.dot(A_inv, B)\n",
        "print(\"\\nSolution for X (x, y, z):\\n\", X)"
      ]
    },
    {
      "cell_type": "markdown",
      "id": "1b90a672",
      "metadata": {
        "id": "1b90a672"
      },
      "source": [
        "# 10.2 Experiment: How Fast is Numpy?"
      ]
    },
    {
      "cell_type": "markdown",
      "id": "d4e79610",
      "metadata": {
        "id": "d4e79610"
      },
      "source": [
        "# 1. Element-wise Addition:\n",
        "\n",
        "• Using Python Lists, perform element-wise addition of two lists of size 1, 000, 000. Measure\n",
        "and Print the time taken for this operation.\n",
        "\n",
        "• Using Numpy Arrays, Repeat the calculation and measure and print the time taken for\n",
        "this operation."
      ]
    },
    {
      "cell_type": "code",
      "execution_count": 60,
      "id": "deed6103",
      "metadata": {
        "colab": {
          "base_uri": "https://localhost:8080/"
        },
        "id": "deed6103",
        "outputId": "945b5cd6-c967-42e3-a3c8-88fa70f2f963"
      },
      "outputs": [
        {
          "name": "stdout",
          "output_type": "stream",
          "text": [
            "Time taken for element-wise addition using Python Lists: 0.07033181190490723 seconds\n"
          ]
        }
      ],
      "source": [
        "#Using Python List\n",
        "\n",
        "import time\n",
        "\n",
        "list1 = [i for i in range(1000000)]\n",
        "list2 = [i for i in range(1000000)]\n",
        "\n",
        "start_time = time.time()\n",
        "result_list = [a + b for a, b in zip(list1, list2)]\n",
        "end_time = time.time()\n",
        "\n",
        "print(\"Time taken for element-wise addition using Python Lists:\", end_time - start_time, \"seconds\")"
      ]
    },
    {
      "cell_type": "code",
      "execution_count": 61,
      "id": "5b118c0c",
      "metadata": {
        "colab": {
          "base_uri": "https://localhost:8080/"
        },
        "id": "5b118c0c",
        "outputId": "9412e6bd-d44a-4f74-ec91-a9c733fccdce"
      },
      "outputs": [
        {
          "name": "stdout",
          "output_type": "stream",
          "text": [
            "Time taken for element-wise addition using NumPy Arrays: 0.005162239074707031 seconds\n"
          ]
        }
      ],
      "source": [
        "# Using NumPy Arrays\n",
        "\n",
        "import numpy as np\n",
        "\n",
        "array1 = np.arange(1000000)\n",
        "array2 = np.arange(1000000)\n",
        "\n",
        "start_time = time.time()\n",
        "result_array = array1 + array2\n",
        "end_time = time.time()\n",
        "\n",
        "print(\"Time taken for element-wise addition using NumPy Arrays:\", end_time - start_time, \"seconds\")"
      ]
    },
    {
      "cell_type": "markdown",
      "id": "1ca93295",
      "metadata": {
        "id": "1ca93295"
      },
      "source": [
        "# 2. Element-wise Multiplication\n",
        "\n",
        "• Using Python Lists, perform element-wise multiplication of two lists of size 1, 000, 000.\n",
        "Measure and Print the time taken for this operation.\n",
        "\n",
        "• Using Numpy Arrays, Repeat the calculation and measure and print the time taken for\n",
        "this operation."
      ]
    },
    {
      "cell_type": "code",
      "execution_count": 63,
      "id": "3e8446d1",
      "metadata": {
        "colab": {
          "base_uri": "https://localhost:8080/"
        },
        "id": "3e8446d1",
        "outputId": "26788c7a-903d-4490-9e34-4cf4dc521ea9"
      },
      "outputs": [
        {
          "name": "stdout",
          "output_type": "stream",
          "text": [
            "Time taken for element-wise multiplication using Python Lists: 0.08133339881896973 seconds\n"
          ]
        }
      ],
      "source": [
        "# Using Python Lists\n",
        "\n",
        "import time\n",
        "\n",
        "list1 = [i for i in range(1000000)]\n",
        "list2 = [i for i in range(1000000)]\n",
        "\n",
        "start_time = time.time()\n",
        "result_list = [a * b for a, b in zip(list1, list2)]\n",
        "end_time = time.time()\n",
        "\n",
        "print(\"Time taken for element-wise multiplication using Python Lists:\", end_time - start_time, \"seconds\")"
      ]
    },
    {
      "cell_type": "code",
      "execution_count": 64,
      "id": "c73a84d7",
      "metadata": {
        "colab": {
          "base_uri": "https://localhost:8080/"
        },
        "id": "c73a84d7",
        "outputId": "0cf30722-529f-4b2f-d122-f67f5376e427"
      },
      "outputs": [
        {
          "name": "stdout",
          "output_type": "stream",
          "text": [
            "Time taken for element-wise multiplication using NumPy Arrays: 0.0025682449340820312 seconds\n"
          ]
        }
      ],
      "source": [
        "# Using Numpy Arrays\n",
        "\n",
        "import numpy as np\n",
        "\n",
        "array1 = np.arange(1000000)\n",
        "array2 = np.arange(1000000)\n",
        "start_time = time.time()\n",
        "result_array = array1 * array2\n",
        "end_time = time.time()\n",
        "\n",
        "print(\"Time taken for element-wise multiplication using NumPy Arrays:\", end_time - start_time, \"seconds\")"
      ]
    },
    {
      "cell_type": "markdown",
      "id": "9b09ac3f",
      "metadata": {
        "id": "9b09ac3f"
      },
      "source": [
        "# Dot Product\n",
        "\n",
        "• Using Python Lists, compute the dot product of two lists of size 1, 000, 000. Measure and\n",
        "Print the time taken for this operation.\n",
        "\n",
        "• Using Numpy Arrays, Repeat the calculation and measure and print the time taken for\n",
        "this operation."
      ]
    },
    {
      "cell_type": "code",
      "execution_count": 65,
      "id": "71def104",
      "metadata": {
        "colab": {
          "base_uri": "https://localhost:8080/"
        },
        "id": "71def104",
        "outputId": "f2dd900f-b0bc-4efb-dcc5-0888c4c26dfd"
      },
      "outputs": [
        {
          "name": "stdout",
          "output_type": "stream",
          "text": [
            "Time taken for dot product using Python Lists: 0.19704842567443848 seconds\n",
            "Dot product: 333332833333500000\n"
          ]
        }
      ],
      "source": [
        "# Using Python Lists\n",
        "\n",
        "import time\n",
        "\n",
        "list1 = [i for i in range(1000000)]\n",
        "list2 = [i for i in range(1000000)]\n",
        "\n",
        "start_time = time.time()\n",
        "dot_product = sum(a * b for a, b in zip(list1, list2))\n",
        "end_time = time.time()\n",
        "print(\"Time taken for dot product using Python Lists:\", end_time - start_time, \"seconds\")\n",
        "print(\"Dot product:\", dot_product)\n"
      ]
    },
    {
      "cell_type": "code",
      "execution_count": 66,
      "id": "6d913f63",
      "metadata": {
        "colab": {
          "base_uri": "https://localhost:8080/"
        },
        "id": "6d913f63",
        "outputId": "333fb6ad-28de-4d42-9acb-cdcdbcd02e00"
      },
      "outputs": [
        {
          "name": "stdout",
          "output_type": "stream",
          "text": [
            "Time taken for dot product using NumPy Arrays: 0.0022063255310058594 seconds\n",
            "Dot product: 333332833333500000\n"
          ]
        }
      ],
      "source": [
        "# Using Numpy Arrays\n",
        "\n",
        "import numpy as np\n",
        "\n",
        "array1 = np.arange(1000000)\n",
        "array2 = np.arange(1000000)\n",
        "\n",
        "start_time = time.time()\n",
        "dot_product = np.dot(array1, array2)\n",
        "end_time = time.time()\n",
        "\n",
        "print(\"Time taken for dot product using NumPy Arrays:\", end_time - start_time, \"seconds\")\n",
        "print(\"Dot product:\", dot_product)"
      ]
    },
    {
      "cell_type": "markdown",
      "id": "4ad03c64",
      "metadata": {
        "id": "4ad03c64"
      },
      "source": [
        "# Matrix Multiplication\n",
        "\n",
        "• Using Python lists, perform matrix multiplication of two matrices of size 1000x1000. Measure and print the time taken for this operation.\n",
        "\n",
        "• Using NumPy arrays, perform matrix multiplication of two matrices of size 1000x1000.\n",
        "Measure and print the time taken for this operation."
      ]
    },
    {
      "cell_type": "code",
      "execution_count": 71,
      "id": "96da75e4",
      "metadata": {
        "colab": {
          "base_uri": "https://localhost:8080/"
        },
        "id": "96da75e4",
        "outputId": "8c745e3a-1ef2-4e0d-f957-bd15573c1e27"
      },
      "outputs": [
        {
          "name": "stdout",
          "output_type": "stream",
          "text": [
            "Time taken for matrix multiplication: 0.06685280799865723 seconds\n"
          ]
        }
      ],
      "source": [
        "import numpy as np\n",
        "import time\n",
        "\n",
        "# Create two random matrices of size 1000x1000\n",
        "# These matrices will be filled with random numbers\n",
        "matrix_a = np.random.rand(1000, 1000)\n",
        "matrix_b = np.random.rand(1000, 1000)\n",
        "\n",
        "# Start the timer to measure how long the multiplication takes\n",
        "start_time = time.time()\n",
        "\n",
        "# Perform the matrix multiplication using numpy's dot function\n",
        "result = np.dot(matrix_a, matrix_b)\n",
        "\n",
        "# Stop the timer after the multiplication is done\n",
        "end_time = time.time()\n",
        "\n",
        "# Calculate the total time taken for the multiplication\n",
        "time_taken = end_time - start_time\n",
        "\n",
        "# Print the time taken in seconds\n",
        "print(f\"Time taken for matrix multiplication: {time_taken} seconds\")\n"
      ]
    },
    {
      "cell_type": "code",
      "execution_count": 74,
      "id": "221c4e0b",
      "metadata": {
        "colab": {
          "base_uri": "https://localhost:8080/"
        },
        "id": "221c4e0b",
        "outputId": "ca149462-1d2a-4b85-a5d0-a07a7f3503ec"
      },
      "outputs": [
        {
          "name": "stdout",
          "output_type": "stream",
          "text": [
            "Time taken for matrix multiplication using NumPy Arrays: 1.2934625148773193 seconds\n"
          ]
        }
      ],
      "source": [
        "import numpy as np  # Import the NumPy library for numerical operations\n",
        "\n",
        "# Create the first 1000x1000 matrix\n",
        "# Each element is the sum of its row and column indices (i + j)\n",
        "matrix1 = np.array([[i + j for j in range(1000)] for i in range(1000)])\n",
        "\n",
        "# Create the second 1000x1000 matrix in the same way\n",
        "matrix2 = np.array([[i + j for j in range(1000)] for i in range(1000)])\n",
        "\n",
        "# Start timing the matrix multiplication process\n",
        "start_time = time.time()\n",
        "\n",
        "# Perform the matrix multiplication using NumPy's dot function\n",
        "result = np.dot(matrix1, matrix2)\n",
        "\n",
        "# Stop timing after the multiplication is complete\n",
        "end_time = time.time()\n",
        "\n",
        "# Print the total time taken for the matrix multiplication\n",
        "print(\"Time taken for matrix multiplication using NumPy Arrays:\", end_time - start_time, \"seconds\")\n"
      ]
    },
    {
      "cell_type": "code",
      "execution_count": null,
      "id": "4b9d172e",
      "metadata": {
        "id": "4b9d172e"
      },
      "outputs": [],
      "source": []
    }
  ],
  "metadata": {
    "colab": {
      "provenance": []
    },
    "kernelspec": {
      "display_name": "Python 3 (ipykernel)",
      "language": "python",
      "name": "python3"
    },
    "language_info": {
      "codemirror_mode": {
        "name": "ipython",
        "version": 3
      },
      "file_extension": ".py",
      "mimetype": "text/x-python",
      "name": "python",
      "nbconvert_exporter": "python",
      "pygments_lexer": "ipython3",
      "version": "3.9.13"
    }
  },
  "nbformat": 4,
  "nbformat_minor": 5
}
